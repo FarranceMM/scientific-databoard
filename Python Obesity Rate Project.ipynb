{
 "cells": [
  {
   "cell_type": "code",
   "execution_count": 1,
   "id": "5b993a5d-6999-4ae3-86b1-601d4d5a14f1",
   "metadata": {},
   "outputs": [],
   "source": [
    "import numpy as np\n",
    "import pandas as pd\n",
    "from sklearn.impute import SimpleImputer\n",
    "from pandas import ExcelWriter\n",
    "from pandas import ExcelFile\n",
    "import matplotlib.pyplot as plt\n",
    "import seaborn as sns\n",
    "from matplotlib.patches import Rectangle\n",
    "from adjustText import adjust_text\n",
    "import omniplot.plot as op"
   ]
  },
  {
   "cell_type": "markdown",
   "id": "14bd75d3-e3f6-4811-a442-bc054b14f5b4",
   "metadata": {},
   "source": [
    "<H4> This dataset shows the obesity rate by each country between male and female"
   ]
  },
  {
   "cell_type": "code",
   "execution_count": 4,
   "id": "dcb6e035-e82c-48e8-b075-384e7dbfddef",
   "metadata": {},
   "outputs": [],
   "source": [
    "df = pd.read_csv('D:/Data/obeseNations.csv', sep = ',')"
   ]
  },
  {
   "cell_type": "code",
   "execution_count": 5,
   "id": "1b6867ad-a3ce-419b-81d6-4edccf4c50c6",
   "metadata": {},
   "outputs": [
    {
     "data": {
      "text/html": [
       "<div>\n",
       "<style scoped>\n",
       "    .dataframe tbody tr th:only-of-type {\n",
       "        vertical-align: middle;\n",
       "    }\n",
       "\n",
       "    .dataframe tbody tr th {\n",
       "        vertical-align: top;\n",
       "    }\n",
       "\n",
       "    .dataframe thead th {\n",
       "        text-align: right;\n",
       "    }\n",
       "</style>\n",
       "<table border=\"1\" class=\"dataframe\">\n",
       "  <thead>\n",
       "    <tr style=\"text-align: right;\">\n",
       "      <th></th>\n",
       "      <th>code</th>\n",
       "      <th>Country</th>\n",
       "      <th>value</th>\n",
       "      <th>Female</th>\n",
       "      <th>Male</th>\n",
       "    </tr>\n",
       "  </thead>\n",
       "  <tbody>\n",
       "    <tr>\n",
       "      <th>0</th>\n",
       "      <td>AFG</td>\n",
       "      <td>Afghanistan</td>\n",
       "      <td>2.9</td>\n",
       "      <td>4.1</td>\n",
       "      <td>1.8</td>\n",
       "    </tr>\n",
       "    <tr>\n",
       "      <th>1</th>\n",
       "      <td>AGO</td>\n",
       "      <td>Angola</td>\n",
       "      <td>10.2</td>\n",
       "      <td>14.2</td>\n",
       "      <td>6.0</td>\n",
       "    </tr>\n",
       "    <tr>\n",
       "      <th>2</th>\n",
       "      <td>ALB</td>\n",
       "      <td>Albania</td>\n",
       "      <td>17.6</td>\n",
       "      <td>18.7</td>\n",
       "      <td>16.5</td>\n",
       "    </tr>\n",
       "    <tr>\n",
       "      <th>3</th>\n",
       "      <td>AND</td>\n",
       "      <td>Andorra</td>\n",
       "      <td>29.5</td>\n",
       "      <td>30.5</td>\n",
       "      <td>28.5</td>\n",
       "    </tr>\n",
       "    <tr>\n",
       "      <th>4</th>\n",
       "      <td>ARE</td>\n",
       "      <td>United Arab Emirates</td>\n",
       "      <td>37.2</td>\n",
       "      <td>45.1</td>\n",
       "      <td>33.8</td>\n",
       "    </tr>\n",
       "    <tr>\n",
       "      <th>...</th>\n",
       "      <td>...</td>\n",
       "      <td>...</td>\n",
       "      <td>...</td>\n",
       "      <td>...</td>\n",
       "      <td>...</td>\n",
       "    </tr>\n",
       "    <tr>\n",
       "      <th>174</th>\n",
       "      <td>WSM</td>\n",
       "      <td>Samoa</td>\n",
       "      <td>43.4</td>\n",
       "      <td>51.3</td>\n",
       "      <td>36.0</td>\n",
       "    </tr>\n",
       "    <tr>\n",
       "      <th>175</th>\n",
       "      <td>YEM</td>\n",
       "      <td>Yemen</td>\n",
       "      <td>17.2</td>\n",
       "      <td>23.4</td>\n",
       "      <td>11.1</td>\n",
       "    </tr>\n",
       "    <tr>\n",
       "      <th>176</th>\n",
       "      <td>ZAF</td>\n",
       "      <td>South Africa</td>\n",
       "      <td>26.8</td>\n",
       "      <td>37.3</td>\n",
       "      <td>15.7</td>\n",
       "    </tr>\n",
       "    <tr>\n",
       "      <th>177</th>\n",
       "      <td>ZMB</td>\n",
       "      <td>Zambia</td>\n",
       "      <td>8.9</td>\n",
       "      <td>14.3</td>\n",
       "      <td>3.4</td>\n",
       "    </tr>\n",
       "    <tr>\n",
       "      <th>178</th>\n",
       "      <td>ZWE</td>\n",
       "      <td>Zimbabwe</td>\n",
       "      <td>10.5</td>\n",
       "      <td>18.5</td>\n",
       "      <td>2.4</td>\n",
       "    </tr>\n",
       "  </tbody>\n",
       "</table>\n",
       "<p>179 rows × 5 columns</p>\n",
       "</div>"
      ],
      "text/plain": [
       "    code               Country  value   Female   Male\n",
       "0    AFG           Afghanistan    2.9      4.1    1.8\n",
       "1    AGO                Angola   10.2     14.2    6.0\n",
       "2    ALB               Albania   17.6     18.7   16.5\n",
       "3    AND               Andorra   29.5     30.5   28.5\n",
       "4    ARE  United Arab Emirates   37.2     45.1   33.8\n",
       "..   ...                   ...    ...      ...    ...\n",
       "174  WSM                 Samoa   43.4     51.3   36.0\n",
       "175  YEM                 Yemen   17.2     23.4   11.1\n",
       "176  ZAF          South Africa   26.8     37.3   15.7\n",
       "177  ZMB                Zambia    8.9     14.3    3.4\n",
       "178  ZWE              Zimbabwe   10.5     18.5    2.4\n",
       "\n",
       "[179 rows x 5 columns]"
      ]
     },
     "execution_count": 5,
     "metadata": {},
     "output_type": "execute_result"
    }
   ],
   "source": [
    "df"
   ]
  },
  {
   "cell_type": "markdown",
   "id": "63be88da-ba7c-4d52-b03e-ad3c19d0c938",
   "metadata": {},
   "source": [
    "# DATA CLEANSING"
   ]
  },
  {
   "cell_type": "code",
   "execution_count": 9,
   "id": "ac868bc5-7a4a-4ee2-aedf-5330bedd9a9c",
   "metadata": {},
   "outputs": [
    {
     "data": {
      "text/html": [
       "<div>\n",
       "<style scoped>\n",
       "    .dataframe tbody tr th:only-of-type {\n",
       "        vertical-align: middle;\n",
       "    }\n",
       "\n",
       "    .dataframe tbody tr th {\n",
       "        vertical-align: top;\n",
       "    }\n",
       "\n",
       "    .dataframe thead th {\n",
       "        text-align: right;\n",
       "    }\n",
       "</style>\n",
       "<table border=\"1\" class=\"dataframe\">\n",
       "  <thead>\n",
       "    <tr style=\"text-align: right;\">\n",
       "      <th></th>\n",
       "      <th>code</th>\n",
       "      <th>Country</th>\n",
       "      <th>value</th>\n",
       "      <th>Female</th>\n",
       "      <th>Male</th>\n",
       "    </tr>\n",
       "  </thead>\n",
       "  <tbody>\n",
       "    <tr>\n",
       "      <th>4</th>\n",
       "      <td>ARE</td>\n",
       "      <td>United Arab Emirates</td>\n",
       "      <td>37.2</td>\n",
       "      <td>45.1</td>\n",
       "      <td>33.8</td>\n",
       "    </tr>\n",
       "  </tbody>\n",
       "</table>\n",
       "</div>"
      ],
      "text/plain": [
       "  code               Country  value   Female   Male\n",
       "4  ARE  United Arab Emirates   37.2     45.1   33.8"
      ]
     },
     "execution_count": 9,
     "metadata": {},
     "output_type": "execute_result"
    }
   ],
   "source": [
    "df.sample()"
   ]
  },
  {
   "cell_type": "code",
   "execution_count": 11,
   "id": "cd27ad05-66c4-48f0-8cca-6d8078ed5d22",
   "metadata": {},
   "outputs": [
    {
     "data": {
      "text/plain": [
       "code        object\n",
       "Country     object\n",
       "value      float64\n",
       " Female    float64\n",
       " Male      float64\n",
       "dtype: object"
      ]
     },
     "execution_count": 11,
     "metadata": {},
     "output_type": "execute_result"
    }
   ],
   "source": [
    "df.dtypes"
   ]
  },
  {
   "cell_type": "code",
   "execution_count": 13,
   "id": "d24cefac-09b8-4f34-9047-e673a2df9e29",
   "metadata": {},
   "outputs": [
    {
     "data": {
      "text/plain": [
       "(179, 5)"
      ]
     },
     "execution_count": 13,
     "metadata": {},
     "output_type": "execute_result"
    }
   ],
   "source": [
    "df.shape"
   ]
  },
  {
   "cell_type": "code",
   "execution_count": 15,
   "id": "465e1027-8104-4f01-8ab9-a1cc69aa5269",
   "metadata": {},
   "outputs": [
    {
     "data": {
      "text/plain": [
       "code       179\n",
       "Country    179\n",
       "value      179\n",
       " Female    179\n",
       " Male      179\n",
       "dtype: int64"
      ]
     },
     "execution_count": 15,
     "metadata": {},
     "output_type": "execute_result"
    }
   ],
   "source": [
    "df.count()"
   ]
  },
  {
   "cell_type": "code",
   "execution_count": 17,
   "id": "263986ae-1adc-4bd6-89d3-9ea78776ccf5",
   "metadata": {},
   "outputs": [
    {
     "data": {
      "text/plain": [
       "code       179\n",
       "Country    179\n",
       "value      145\n",
       " Female    146\n",
       " Male      132\n",
       "dtype: int64"
      ]
     },
     "execution_count": 17,
     "metadata": {},
     "output_type": "execute_result"
    }
   ],
   "source": [
    "df.nunique()"
   ]
  },
  {
   "cell_type": "code",
   "execution_count": 19,
   "id": "74ae2694-5635-444d-bc06-20a72d84f722",
   "metadata": {},
   "outputs": [
    {
     "data": {
      "text/plain": [
       "code         0\n",
       "Country      0\n",
       "value      0.0\n",
       " Female    0.0\n",
       " Male      0.0\n",
       "dtype: object"
      ]
     },
     "execution_count": 19,
     "metadata": {},
     "output_type": "execute_result"
    }
   ],
   "source": [
    "df[df == 0].sum()"
   ]
  },
  {
   "cell_type": "code",
   "execution_count": 21,
   "id": "a6f99a15-bf25-4796-b17b-5a1744ae1786",
   "metadata": {},
   "outputs": [
    {
     "data": {
      "text/plain": [
       "code       0.0\n",
       "Country    0.0\n",
       "value      0.0\n",
       " Female    0.0\n",
       " Male      0.0\n",
       "dtype: float64"
      ]
     },
     "execution_count": 21,
     "metadata": {},
     "output_type": "execute_result"
    }
   ],
   "source": [
    "df[df.duplicated].sum()"
   ]
  },
  {
   "cell_type": "code",
   "execution_count": 23,
   "id": "356fcafd-2b2d-4bc1-9412-d24d6fc1e5fa",
   "metadata": {},
   "outputs": [
    {
     "data": {
      "text/plain": [
       "code       0\n",
       "Country    0\n",
       "value      0\n",
       " Female    0\n",
       " Male      0\n",
       "dtype: int64"
      ]
     },
     "execution_count": 23,
     "metadata": {},
     "output_type": "execute_result"
    }
   ],
   "source": [
    "df.isna().sum()"
   ]
  },
  {
   "cell_type": "code",
   "execution_count": 25,
   "id": "5ebee649-47b6-4ce1-9908-be1f13355e57",
   "metadata": {},
   "outputs": [
    {
     "name": "stdout",
     "output_type": "stream",
     "text": [
      "<class 'pandas.core.frame.DataFrame'>\n",
      "RangeIndex: 179 entries, 0 to 178\n",
      "Data columns (total 5 columns):\n",
      " #   Column   Non-Null Count  Dtype  \n",
      "---  ------   --------------  -----  \n",
      " 0   code     179 non-null    object \n",
      " 1   Country  179 non-null    object \n",
      " 2   value    179 non-null    float64\n",
      " 3    Female  179 non-null    float64\n",
      " 4    Male    179 non-null    float64\n",
      "dtypes: float64(3), object(2)\n",
      "memory usage: 7.1+ KB\n"
     ]
    }
   ],
   "source": [
    "df.info()"
   ]
  },
  {
   "cell_type": "code",
   "execution_count": 27,
   "id": "c001c80e-a9a9-4232-a3d4-68f0ece782ad",
   "metadata": {},
   "outputs": [
    {
     "data": {
      "text/html": [
       "<div>\n",
       "<style scoped>\n",
       "    .dataframe tbody tr th:only-of-type {\n",
       "        vertical-align: middle;\n",
       "    }\n",
       "\n",
       "    .dataframe tbody tr th {\n",
       "        vertical-align: top;\n",
       "    }\n",
       "\n",
       "    .dataframe thead th {\n",
       "        text-align: right;\n",
       "    }\n",
       "</style>\n",
       "<table border=\"1\" class=\"dataframe\">\n",
       "  <thead>\n",
       "    <tr style=\"text-align: right;\">\n",
       "      <th></th>\n",
       "      <th>value</th>\n",
       "      <th>Female</th>\n",
       "      <th>Male</th>\n",
       "    </tr>\n",
       "  </thead>\n",
       "  <tbody>\n",
       "    <tr>\n",
       "      <th>count</th>\n",
       "      <td>179.000000</td>\n",
       "      <td>179.000000</td>\n",
       "      <td>179.000000</td>\n",
       "    </tr>\n",
       "    <tr>\n",
       "      <th>mean</th>\n",
       "      <td>19.781006</td>\n",
       "      <td>23.553073</td>\n",
       "      <td>16.096089</td>\n",
       "    </tr>\n",
       "    <tr>\n",
       "      <th>std</th>\n",
       "      <td>10.880602</td>\n",
       "      <td>12.099101</td>\n",
       "      <td>10.523961</td>\n",
       "    </tr>\n",
       "    <tr>\n",
       "      <th>min</th>\n",
       "      <td>2.200000</td>\n",
       "      <td>3.200000</td>\n",
       "      <td>0.700000</td>\n",
       "    </tr>\n",
       "    <tr>\n",
       "      <th>25%</th>\n",
       "      <td>9.750000</td>\n",
       "      <td>14.400000</td>\n",
       "      <td>5.650000</td>\n",
       "    </tr>\n",
       "    <tr>\n",
       "      <th>50%</th>\n",
       "      <td>20.500000</td>\n",
       "      <td>23.200000</td>\n",
       "      <td>17.200000</td>\n",
       "    </tr>\n",
       "    <tr>\n",
       "      <th>75%</th>\n",
       "      <td>26.300000</td>\n",
       "      <td>30.850000</td>\n",
       "      <td>22.800000</td>\n",
       "    </tr>\n",
       "    <tr>\n",
       "      <th>max</th>\n",
       "      <td>50.800000</td>\n",
       "      <td>55.100000</td>\n",
       "      <td>46.600000</td>\n",
       "    </tr>\n",
       "  </tbody>\n",
       "</table>\n",
       "</div>"
      ],
      "text/plain": [
       "            value      Female        Male\n",
       "count  179.000000  179.000000  179.000000\n",
       "mean    19.781006   23.553073   16.096089\n",
       "std     10.880602   12.099101   10.523961\n",
       "min      2.200000    3.200000    0.700000\n",
       "25%      9.750000   14.400000    5.650000\n",
       "50%     20.500000   23.200000   17.200000\n",
       "75%     26.300000   30.850000   22.800000\n",
       "max     50.800000   55.100000   46.600000"
      ]
     },
     "execution_count": 27,
     "metadata": {},
     "output_type": "execute_result"
    }
   ],
   "source": [
    "df.describe()"
   ]
  },
  {
   "cell_type": "markdown",
   "id": "0a4f556a-20b4-4fe5-8a47-1177527c8731",
   "metadata": {},
   "source": [
    "<H1> Exploratory Data Analysis\n",
    "\n",
    "\n",
    "<H4> Below are the questions that i am going to cover based on the data given.\n",
    "\n",
    "\n",
    "<H4> 1 what is the obesity rate for males in the first 90 countries? the plot must be in a descending order.\n",
    "\n",
    "<H4> 2 what is the obesity rate for females in the first 90 countries? the plot must be in a descending order.\n",
    "\n",
    "<H4> 3 what are the top ten Countries with the  highest obesity rate for males?\n",
    "\n",
    "<H4> 4 what are the top ten Countries with the  highest obesity rate for females?\n",
    "\n",
    "<H4> 5 what are the top ten Countries with the highest value in obesity?\n",
    "\n",
    "\n"
   ]
  },
  {
   "cell_type": "markdown",
   "id": "5a21fc84-0247-4a0f-be4f-8d4c8b0e4720",
   "metadata": {},
   "source": [
    "<H3> The obesity rate for Males in each Country"
   ]
  },
  {
   "cell_type": "code",
   "execution_count": 31,
   "id": "62f87b5e-b588-46ff-a529-4a68200843fd",
   "metadata": {},
   "outputs": [],
   "source": [
    "df.columns = df.columns.str.strip()"
   ]
  },
  {
   "cell_type": "code",
   "execution_count": 33,
   "id": "2e8b48fa-5f74-4cc1-b49b-ec0bbdc7b5a9",
   "metadata": {},
   "outputs": [
    {
     "data": {
      "text/plain": [
       "0.7"
      ]
     },
     "execution_count": 33,
     "metadata": {},
     "output_type": "execute_result"
    }
   ],
   "source": [
    "df['Male'].min()"
   ]
  },
  {
   "cell_type": "code",
   "execution_count": 35,
   "id": "cc027ffa-7931-440a-a371-55449c1d72b5",
   "metadata": {},
   "outputs": [
    {
     "data": {
      "text/plain": [
       "46.6"
      ]
     },
     "execution_count": 35,
     "metadata": {},
     "output_type": "execute_result"
    }
   ],
   "source": [
    "df['Male'].max()"
   ]
  },
  {
   "cell_type": "code",
   "execution_count": 37,
   "id": "723722d4-6e10-4155-b3dd-eee1807964ad",
   "metadata": {},
   "outputs": [],
   "source": [
    "df_rate = df.groupby('Country')['Male'].sum().reset_index()"
   ]
  },
  {
   "cell_type": "code",
   "execution_count": 39,
   "id": "d89187d6-969a-47e6-b43a-3838cf20ed94",
   "metadata": {},
   "outputs": [
    {
     "data": {
      "text/html": [
       "<div>\n",
       "<style scoped>\n",
       "    .dataframe tbody tr th:only-of-type {\n",
       "        vertical-align: middle;\n",
       "    }\n",
       "\n",
       "    .dataframe tbody tr th {\n",
       "        vertical-align: top;\n",
       "    }\n",
       "\n",
       "    .dataframe thead th {\n",
       "        text-align: right;\n",
       "    }\n",
       "</style>\n",
       "<table border=\"1\" class=\"dataframe\">\n",
       "  <thead>\n",
       "    <tr style=\"text-align: right;\">\n",
       "      <th></th>\n",
       "      <th>Country</th>\n",
       "      <th>Male</th>\n",
       "    </tr>\n",
       "  </thead>\n",
       "  <tbody>\n",
       "    <tr>\n",
       "      <th>0</th>\n",
       "      <td>Afghanistan</td>\n",
       "      <td>1.8</td>\n",
       "    </tr>\n",
       "    <tr>\n",
       "      <th>1</th>\n",
       "      <td>Albania</td>\n",
       "      <td>16.5</td>\n",
       "    </tr>\n",
       "    <tr>\n",
       "      <th>2</th>\n",
       "      <td>Algeria</td>\n",
       "      <td>18.8</td>\n",
       "    </tr>\n",
       "    <tr>\n",
       "      <th>3</th>\n",
       "      <td>Andorra</td>\n",
       "      <td>28.5</td>\n",
       "    </tr>\n",
       "    <tr>\n",
       "      <th>4</th>\n",
       "      <td>Angola</td>\n",
       "      <td>6.0</td>\n",
       "    </tr>\n",
       "    <tr>\n",
       "      <th>...</th>\n",
       "      <td>...</td>\n",
       "      <td>...</td>\n",
       "    </tr>\n",
       "    <tr>\n",
       "      <th>174</th>\n",
       "      <td>Uzbekistan</td>\n",
       "      <td>12.1</td>\n",
       "    </tr>\n",
       "    <tr>\n",
       "      <th>175</th>\n",
       "      <td>Vanuatu</td>\n",
       "      <td>29.4</td>\n",
       "    </tr>\n",
       "    <tr>\n",
       "      <th>176</th>\n",
       "      <td>Yemen</td>\n",
       "      <td>11.1</td>\n",
       "    </tr>\n",
       "    <tr>\n",
       "      <th>177</th>\n",
       "      <td>Zambia</td>\n",
       "      <td>3.4</td>\n",
       "    </tr>\n",
       "    <tr>\n",
       "      <th>178</th>\n",
       "      <td>Zimbabwe</td>\n",
       "      <td>2.4</td>\n",
       "    </tr>\n",
       "  </tbody>\n",
       "</table>\n",
       "<p>179 rows × 2 columns</p>\n",
       "</div>"
      ],
      "text/plain": [
       "         Country  Male\n",
       "0    Afghanistan   1.8\n",
       "1        Albania  16.5\n",
       "2        Algeria  18.8\n",
       "3        Andorra  28.5\n",
       "4         Angola   6.0\n",
       "..           ...   ...\n",
       "174   Uzbekistan  12.1\n",
       "175      Vanuatu  29.4\n",
       "176        Yemen  11.1\n",
       "177       Zambia   3.4\n",
       "178     Zimbabwe   2.4\n",
       "\n",
       "[179 rows x 2 columns]"
      ]
     },
     "execution_count": 39,
     "metadata": {},
     "output_type": "execute_result"
    }
   ],
   "source": [
    "df_rate"
   ]
  },
  {
   "cell_type": "code",
   "execution_count": 41,
   "id": "916334f6-4c1b-45ae-9bcd-a60a89edd772",
   "metadata": {},
   "outputs": [],
   "source": [
    "df1 = df_rate.sort_values('Male', ascending = False)"
   ]
  },
  {
   "cell_type": "code",
   "execution_count": 43,
   "id": "8572532e-9b8a-4373-9e44-4bc4d9926929",
   "metadata": {
    "scrolled": true
   },
   "outputs": [
    {
     "data": {
      "text/html": [
       "<div>\n",
       "<style scoped>\n",
       "    .dataframe tbody tr th:only-of-type {\n",
       "        vertical-align: middle;\n",
       "    }\n",
       "\n",
       "    .dataframe tbody tr th {\n",
       "        vertical-align: top;\n",
       "    }\n",
       "\n",
       "    .dataframe thead th {\n",
       "        text-align: right;\n",
       "    }\n",
       "</style>\n",
       "<table border=\"1\" class=\"dataframe\">\n",
       "  <thead>\n",
       "    <tr style=\"text-align: right;\">\n",
       "      <th></th>\n",
       "      <th>Country</th>\n",
       "      <th>Male</th>\n",
       "    </tr>\n",
       "  </thead>\n",
       "  <tbody>\n",
       "    <tr>\n",
       "      <th>38</th>\n",
       "      <td>Cook Islands</td>\n",
       "      <td>46.6</td>\n",
       "    </tr>\n",
       "    <tr>\n",
       "      <th>122</th>\n",
       "      <td>Palau</td>\n",
       "      <td>43.1</td>\n",
       "    </tr>\n",
       "    <tr>\n",
       "      <th>130</th>\n",
       "      <td>Qatar</td>\n",
       "      <td>40.0</td>\n",
       "    </tr>\n",
       "    <tr>\n",
       "      <th>111</th>\n",
       "      <td>Nauru</td>\n",
       "      <td>39.7</td>\n",
       "    </tr>\n",
       "    <tr>\n",
       "      <th>118</th>\n",
       "      <td>Niue</td>\n",
       "      <td>37.7</td>\n",
       "    </tr>\n",
       "    <tr>\n",
       "      <th>...</th>\n",
       "      <td>...</td>\n",
       "      <td>...</td>\n",
       "    </tr>\n",
       "    <tr>\n",
       "      <th>52</th>\n",
       "      <td>Eritrea</td>\n",
       "      <td>1.4</td>\n",
       "    </tr>\n",
       "    <tr>\n",
       "      <th>109</th>\n",
       "      <td>Myanmar</td>\n",
       "      <td>1.4</td>\n",
       "    </tr>\n",
       "    <tr>\n",
       "      <th>161</th>\n",
       "      <td>Timor-Leste</td>\n",
       "      <td>1.2</td>\n",
       "    </tr>\n",
       "    <tr>\n",
       "      <th>133</th>\n",
       "      <td>Rwanda</td>\n",
       "      <td>1.2</td>\n",
       "    </tr>\n",
       "    <tr>\n",
       "      <th>26</th>\n",
       "      <td>Burundi</td>\n",
       "      <td>0.7</td>\n",
       "    </tr>\n",
       "  </tbody>\n",
       "</table>\n",
       "<p>179 rows × 2 columns</p>\n",
       "</div>"
      ],
      "text/plain": [
       "          Country  Male\n",
       "38   Cook Islands  46.6\n",
       "122         Palau  43.1\n",
       "130         Qatar  40.0\n",
       "111         Nauru  39.7\n",
       "118          Niue  37.7\n",
       "..            ...   ...\n",
       "52        Eritrea   1.4\n",
       "109       Myanmar   1.4\n",
       "161   Timor-Leste   1.2\n",
       "133        Rwanda   1.2\n",
       "26        Burundi   0.7\n",
       "\n",
       "[179 rows x 2 columns]"
      ]
     },
     "execution_count": 43,
     "metadata": {},
     "output_type": "execute_result"
    }
   ],
   "source": [
    "df1"
   ]
  },
  {
   "cell_type": "code",
   "execution_count": 45,
   "id": "a21d77af-11c8-4523-a459-13798f0eefa1",
   "metadata": {},
   "outputs": [],
   "source": [
    "df1 = df1[:90]"
   ]
  },
  {
   "cell_type": "code",
   "execution_count": 47,
   "id": "4a328b08-7369-4c13-998c-f9ae65adbd60",
   "metadata": {},
   "outputs": [
    {
     "name": "stderr",
     "output_type": "stream",
     "text": [
      "C:\\Users\\FarranceMM\\AppData\\Local\\Temp\\ipykernel_6788\\1833994426.py:11: UserWarning: FixedFormatter should only be used together with FixedLocator\n",
      "  line.set_yticklabels(['{:,.0f}%'.format(y) for y in line.get_yticks()])\n",
      "C:\\Users\\FarranceMM\\AppData\\Local\\Temp\\ipykernel_6788\\1833994426.py:12: UserWarning: FixedFormatter should only be used together with FixedLocator\n",
      "  line.set_xticklabels(line.get_xticklabels(), rotation = 90, ha = 'center')\n"
     ]
    },
    {
     "data": {
      "image/png": "[encoded data removed]",
      "text/plain": [
       "<Figure size 1400x700 with 1 Axes>"
      ]
     },
     "metadata": {},
     "output_type": "display_data"
    }
   ],
   "source": [
    "plt.figure(figsize = (14, 7))\n",
    "line = sns.lineplot(x = 'Country', y = 'Male', data = df1, errorbar = None, color = 'blue')\n",
    "max_value = round(df1['Male'].max(), 1)\n",
    "min_value = round(df1['Male'].min(), 1)\n",
    "plt.scatter(df1['Country'][df1['Male'].idxmax()], max_value, s = 70, zorder = 3, color = 'red')\n",
    "plt.scatter(df1['Country'][df1['Male'].idxmin()], min_value, s = 70, zorder = 3, color = 'red')\n",
    "plt.annotate(str(max_value) + '%', (df1['Country'][df1['Male'].idxmax()], max_value),\n",
    "             textcoords = 'offset points', xytext = (25, -4), ha = 'center')\n",
    "plt.annotate(str(min_value) + '%', (df1['Country'][df1['Male'].idxmin()], min_value),\n",
    "             textcoords = 'offset points', xytext = (2, 12), ha = 'center')\n",
    "line.set_yticklabels(['{:,.0f}%'.format(y) for y in line.get_yticks()])\n",
    "line.set_xticklabels(line.get_xticklabels(), rotation = 90, ha = 'center')\n",
    "plt.title('Men obesity rate by Country', fontsize =20)\n",
    "plt.xlabel('Country', fontsize = 14)\n",
    "plt.ylabel('Obesity rate by Percentage', fontsize = 14)\n",
    "plt.show()"
   ]
  },
  {
   "cell_type": "markdown",
   "id": "636d0fb6-6751-4d6c-b57c-5dcbd75a41a5",
   "metadata": {},
   "source": [
    "<H4> This graph is about the male obesity rate in each country, which shows that the Cook Islands has the highest number of males who are obese and the \n",
    "Iraq has the lowest number males who are obese\n",
    "\n",
    "<H4> Male obesity rates may differ by each country because of cultural attitudes torwards body image and also good access to healthcare can play a vital role in decreasing the rate at which the male obesity is growing"
   ]
  },
  {
   "cell_type": "markdown",
   "id": "0c0bc19b-b32a-4753-8e82-d80f4236c782",
   "metadata": {},
   "source": [
    "<H3> The obesity rate for Females in each Country"
   ]
  },
  {
   "cell_type": "code",
   "execution_count": 51,
   "id": "d747bae6-3c13-471e-b17f-50a8269910ac",
   "metadata": {},
   "outputs": [
    {
     "data": {
      "text/plain": [
       "3.2"
      ]
     },
     "execution_count": 51,
     "metadata": {},
     "output_type": "execute_result"
    }
   ],
   "source": [
    "df['Female'].min()"
   ]
  },
  {
   "cell_type": "code",
   "execution_count": 53,
   "id": "6290a0ef-30d0-468f-a6dc-70e890b55987",
   "metadata": {},
   "outputs": [
    {
     "data": {
      "text/plain": [
       "55.1"
      ]
     },
     "execution_count": 53,
     "metadata": {},
     "output_type": "execute_result"
    }
   ],
   "source": [
    "df['Female'].max()"
   ]
  },
  {
   "cell_type": "code",
   "execution_count": 55,
   "id": "ad217273-90e4-46c3-92a7-a53f51cfa566",
   "metadata": {},
   "outputs": [],
   "source": [
    "df_rate = df.groupby('Country')['Female'].sum().reset_index()"
   ]
  },
  {
   "cell_type": "code",
   "execution_count": 57,
   "id": "7aeeffea-d03f-48e1-bdd1-e31110995e72",
   "metadata": {},
   "outputs": [
    {
     "data": {
      "text/html": [
       "<div>\n",
       "<style scoped>\n",
       "    .dataframe tbody tr th:only-of-type {\n",
       "        vertical-align: middle;\n",
       "    }\n",
       "\n",
       "    .dataframe tbody tr th {\n",
       "        vertical-align: top;\n",
       "    }\n",
       "\n",
       "    .dataframe thead th {\n",
       "        text-align: right;\n",
       "    }\n",
       "</style>\n",
       "<table border=\"1\" class=\"dataframe\">\n",
       "  <thead>\n",
       "    <tr style=\"text-align: right;\">\n",
       "      <th></th>\n",
       "      <th>Country</th>\n",
       "      <th>Female</th>\n",
       "    </tr>\n",
       "  </thead>\n",
       "  <tbody>\n",
       "    <tr>\n",
       "      <th>0</th>\n",
       "      <td>Afghanistan</td>\n",
       "      <td>4.1</td>\n",
       "    </tr>\n",
       "    <tr>\n",
       "      <th>1</th>\n",
       "      <td>Albania</td>\n",
       "      <td>18.7</td>\n",
       "    </tr>\n",
       "    <tr>\n",
       "      <th>2</th>\n",
       "      <td>Algeria</td>\n",
       "      <td>30.8</td>\n",
       "    </tr>\n",
       "    <tr>\n",
       "      <th>3</th>\n",
       "      <td>Andorra</td>\n",
       "      <td>30.5</td>\n",
       "    </tr>\n",
       "    <tr>\n",
       "      <th>4</th>\n",
       "      <td>Angola</td>\n",
       "      <td>14.2</td>\n",
       "    </tr>\n",
       "    <tr>\n",
       "      <th>...</th>\n",
       "      <td>...</td>\n",
       "      <td>...</td>\n",
       "    </tr>\n",
       "    <tr>\n",
       "      <th>174</th>\n",
       "      <td>Uzbekistan</td>\n",
       "      <td>18.9</td>\n",
       "    </tr>\n",
       "    <tr>\n",
       "      <th>175</th>\n",
       "      <td>Vanuatu</td>\n",
       "      <td>41.5</td>\n",
       "    </tr>\n",
       "    <tr>\n",
       "      <th>176</th>\n",
       "      <td>Yemen</td>\n",
       "      <td>23.4</td>\n",
       "    </tr>\n",
       "    <tr>\n",
       "      <th>177</th>\n",
       "      <td>Zambia</td>\n",
       "      <td>14.3</td>\n",
       "    </tr>\n",
       "    <tr>\n",
       "      <th>178</th>\n",
       "      <td>Zimbabwe</td>\n",
       "      <td>18.5</td>\n",
       "    </tr>\n",
       "  </tbody>\n",
       "</table>\n",
       "<p>179 rows × 2 columns</p>\n",
       "</div>"
      ],
      "text/plain": [
       "         Country  Female\n",
       "0    Afghanistan     4.1\n",
       "1        Albania    18.7\n",
       "2        Algeria    30.8\n",
       "3        Andorra    30.5\n",
       "4         Angola    14.2\n",
       "..           ...     ...\n",
       "174   Uzbekistan    18.9\n",
       "175      Vanuatu    41.5\n",
       "176        Yemen    23.4\n",
       "177       Zambia    14.3\n",
       "178     Zimbabwe    18.5\n",
       "\n",
       "[179 rows x 2 columns]"
      ]
     },
     "execution_count": 57,
     "metadata": {},
     "output_type": "execute_result"
    }
   ],
   "source": [
    "df_rate"
   ]
  },
  {
   "cell_type": "code",
   "execution_count": 59,
   "id": "b22853a7-aa19-4910-806a-26b5bb3734ab",
   "metadata": {},
   "outputs": [],
   "source": [
    "dfs = df_rate.sort_values('Female', ascending = False)"
   ]
  },
  {
   "cell_type": "code",
   "execution_count": 61,
   "id": "9d815afa-509d-48f8-8ad9-1f9693add9b4",
   "metadata": {
    "scrolled": true
   },
   "outputs": [
    {
     "data": {
      "text/html": [
       "<div>\n",
       "<style scoped>\n",
       "    .dataframe tbody tr th:only-of-type {\n",
       "        vertical-align: middle;\n",
       "    }\n",
       "\n",
       "    .dataframe tbody tr th {\n",
       "        vertical-align: top;\n",
       "    }\n",
       "\n",
       "    .dataframe thead th {\n",
       "        text-align: right;\n",
       "    }\n",
       "</style>\n",
       "<table border=\"1\" class=\"dataframe\">\n",
       "  <thead>\n",
       "    <tr style=\"text-align: right;\">\n",
       "      <th></th>\n",
       "      <th>Country</th>\n",
       "      <th>Female</th>\n",
       "    </tr>\n",
       "  </thead>\n",
       "  <tbody>\n",
       "    <tr>\n",
       "      <th>38</th>\n",
       "      <td>Cook Islands</td>\n",
       "      <td>55.1</td>\n",
       "    </tr>\n",
       "    <tr>\n",
       "      <th>122</th>\n",
       "      <td>Palau</td>\n",
       "      <td>52.2</td>\n",
       "    </tr>\n",
       "    <tr>\n",
       "      <th>111</th>\n",
       "      <td>Nauru</td>\n",
       "      <td>51.6</td>\n",
       "    </tr>\n",
       "    <tr>\n",
       "      <th>137</th>\n",
       "      <td>Samoa</td>\n",
       "      <td>51.3</td>\n",
       "    </tr>\n",
       "    <tr>\n",
       "      <th>163</th>\n",
       "      <td>Tonga</td>\n",
       "      <td>50.1</td>\n",
       "    </tr>\n",
       "    <tr>\n",
       "      <th>...</th>\n",
       "      <td>...</td>\n",
       "      <td>...</td>\n",
       "    </tr>\n",
       "    <tr>\n",
       "      <th>26</th>\n",
       "      <td>Burundi</td>\n",
       "      <td>4.5</td>\n",
       "    </tr>\n",
       "    <tr>\n",
       "      <th>109</th>\n",
       "      <td>Myanmar</td>\n",
       "      <td>4.3</td>\n",
       "    </tr>\n",
       "    <tr>\n",
       "      <th>0</th>\n",
       "      <td>Afghanistan</td>\n",
       "      <td>4.1</td>\n",
       "    </tr>\n",
       "    <tr>\n",
       "      <th>161</th>\n",
       "      <td>Timor-Leste</td>\n",
       "      <td>3.2</td>\n",
       "    </tr>\n",
       "    <tr>\n",
       "      <th>80</th>\n",
       "      <td>Japan</td>\n",
       "      <td>3.2</td>\n",
       "    </tr>\n",
       "  </tbody>\n",
       "</table>\n",
       "<p>179 rows × 2 columns</p>\n",
       "</div>"
      ],
      "text/plain": [
       "          Country  Female\n",
       "38   Cook Islands    55.1\n",
       "122         Palau    52.2\n",
       "111         Nauru    51.6\n",
       "137         Samoa    51.3\n",
       "163         Tonga    50.1\n",
       "..            ...     ...\n",
       "26        Burundi     4.5\n",
       "109       Myanmar     4.3\n",
       "0     Afghanistan     4.1\n",
       "161   Timor-Leste     3.2\n",
       "80          Japan     3.2\n",
       "\n",
       "[179 rows x 2 columns]"
      ]
     },
     "execution_count": 61,
     "metadata": {},
     "output_type": "execute_result"
    }
   ],
   "source": [
    "dfs"
   ]
  },
  {
   "cell_type": "code",
   "execution_count": 63,
   "id": "32f8bfd9-d4d0-4468-b699-c502a28afad1",
   "metadata": {},
   "outputs": [],
   "source": [
    "dfs = dfs[:90]"
   ]
  },
  {
   "cell_type": "code",
   "execution_count": 65,
   "id": "c0da5a3b-db95-481e-84bc-c8f442c0520d",
   "metadata": {},
   "outputs": [
    {
     "name": "stderr",
     "output_type": "stream",
     "text": [
      "C:\\Users\\FarranceMM\\AppData\\Local\\Temp\\ipykernel_6788\\3623303447.py:11: UserWarning: FixedFormatter should only be used together with FixedLocator\n",
      "  line.set_yticklabels(['{:,.0f}%'.format(y) for y in line.get_yticks()])\n",
      "C:\\Users\\FarranceMM\\AppData\\Local\\Temp\\ipykernel_6788\\3623303447.py:12: UserWarning: FixedFormatter should only be used together with FixedLocator\n",
      "  line.set_xticklabels(line.get_xticklabels(), rotation = 90, ha = 'center')\n"
     ]
    },
    {
     "data": {
      "image/png": "[encoded data removed]",
      "text/plain": [
       "<Figure size 1400x700 with 1 Axes>"
      ]
     },
     "metadata": {},
     "output_type": "display_data"
    }
   ],
   "source": [
    "plt.figure(figsize = (14, 7))\n",
    "line = sns.lineplot(x = 'Country', y = 'Female', data = dfs, errorbar = None, color = 'green')\n",
    "max_value = round(dfs['Female'].max(), 1)\n",
    "min_value = round(dfs['Female'].min(), 1)\n",
    "plt.scatter(dfs['Country'][dfs['Female'].idxmax()], max_value, s = 70, color = 'red', zorder = 3)\n",
    "plt.scatter(dfs['Country'][dfs['Female'].idxmin()], min_value, s = 70, color = 'red', zorder = 3)\n",
    "plt.annotate(str(max_value) + '%', (dfs['Country'][dfs['Female'].idxmax()], max_value), \n",
    "             textcoords = 'offset points', xytext = (25, -4), ha = 'center')\n",
    "plt.annotate(str(min_value) + '%', (dfs['Country'][dfs['Female'].idxmin()], min_value),\n",
    "             textcoords = 'offset points', xytext = (2, 12), ha = 'center')\n",
    "line.set_yticklabels(['{:,.0f}%'.format(y) for y in line.get_yticks()])\n",
    "line.set_xticklabels(line.get_xticklabels(), rotation = 90, ha = 'center')\n",
    "plt.title('Female Obesity Rate by Country', fontsize = 20)\n",
    "plt.ylabel('Obesity rate by Percentage', fontsize = 14, labelpad = 20)\n",
    "plt.xlabel('Country', fontsize = 14, labelpad = 40)\n",
    "plt.show()"
   ]
  },
  {
   "cell_type": "markdown",
   "id": "2bbbf5d1-0d31-4bc4-a766-dfb9af2c0e60",
   "metadata": {},
   "source": [
    "<H4> This graph is about the female obesity rate in each country, which shows that the Cook Islands has the highest number ofmales who\n",
    "are obese and the Nicarangua has the lowest number males who are obese \n",
    "\n",
    "<H4> when i draw my conclusion in comparison to both the males and the females graph i found out Cook Islands has the highest obesity rates for both \n",
    "males and females, females obesity rates is higher than males obesity rate it can be various factors that contribute to the growing number of female \n",
    "obesity such lack of physical activaties, societal pressures, access to health care and dietary habits."
   ]
  },
  {
   "cell_type": "markdown",
   "id": "50e86b44-b3e9-4c27-bcad-90a6f6472a5e",
   "metadata": {},
   "source": [
    "<H3> The top ten Countries with the highest Male obesity rate"
   ]
  },
  {
   "cell_type": "code",
   "execution_count": 69,
   "id": "d897bca1-41ac-48e1-8100-61be1358f819",
   "metadata": {},
   "outputs": [],
   "source": [
    "dftt = pd.DataFrame(df.groupby('Country')['Male'].sum())"
   ]
  },
  {
   "cell_type": "code",
   "execution_count": 71,
   "id": "d61bfee3-51c0-4749-9ce9-c42d1e9870dc",
   "metadata": {},
   "outputs": [
    {
     "data": {
      "text/html": [
       "<div>\n",
       "<style scoped>\n",
       "    .dataframe tbody tr th:only-of-type {\n",
       "        vertical-align: middle;\n",
       "    }\n",
       "\n",
       "    .dataframe tbody tr th {\n",
       "        vertical-align: top;\n",
       "    }\n",
       "\n",
       "    .dataframe thead th {\n",
       "        text-align: right;\n",
       "    }\n",
       "</style>\n",
       "<table border=\"1\" class=\"dataframe\">\n",
       "  <thead>\n",
       "    <tr style=\"text-align: right;\">\n",
       "      <th></th>\n",
       "      <th>Male</th>\n",
       "    </tr>\n",
       "    <tr>\n",
       "      <th>Country</th>\n",
       "      <th></th>\n",
       "    </tr>\n",
       "  </thead>\n",
       "  <tbody>\n",
       "    <tr>\n",
       "      <th>Afghanistan</th>\n",
       "      <td>1.8</td>\n",
       "    </tr>\n",
       "    <tr>\n",
       "      <th>Albania</th>\n",
       "      <td>16.5</td>\n",
       "    </tr>\n",
       "    <tr>\n",
       "      <th>Algeria</th>\n",
       "      <td>18.8</td>\n",
       "    </tr>\n",
       "    <tr>\n",
       "      <th>Andorra</th>\n",
       "      <td>28.5</td>\n",
       "    </tr>\n",
       "    <tr>\n",
       "      <th>Angola</th>\n",
       "      <td>6.0</td>\n",
       "    </tr>\n",
       "    <tr>\n",
       "      <th>...</th>\n",
       "      <td>...</td>\n",
       "    </tr>\n",
       "    <tr>\n",
       "      <th>Uzbekistan</th>\n",
       "      <td>12.1</td>\n",
       "    </tr>\n",
       "    <tr>\n",
       "      <th>Vanuatu</th>\n",
       "      <td>29.4</td>\n",
       "    </tr>\n",
       "    <tr>\n",
       "      <th>Yemen</th>\n",
       "      <td>11.1</td>\n",
       "    </tr>\n",
       "    <tr>\n",
       "      <th>Zambia</th>\n",
       "      <td>3.4</td>\n",
       "    </tr>\n",
       "    <tr>\n",
       "      <th>Zimbabwe</th>\n",
       "      <td>2.4</td>\n",
       "    </tr>\n",
       "  </tbody>\n",
       "</table>\n",
       "<p>179 rows × 1 columns</p>\n",
       "</div>"
      ],
      "text/plain": [
       "             Male\n",
       "Country          \n",
       "Afghanistan   1.8\n",
       "Albania      16.5\n",
       "Algeria      18.8\n",
       "Andorra      28.5\n",
       "Angola        6.0\n",
       "...           ...\n",
       "Uzbekistan   12.1\n",
       "Vanuatu      29.4\n",
       "Yemen        11.1\n",
       "Zambia        3.4\n",
       "Zimbabwe      2.4\n",
       "\n",
       "[179 rows x 1 columns]"
      ]
     },
     "execution_count": 71,
     "metadata": {},
     "output_type": "execute_result"
    }
   ],
   "source": [
    "dftt"
   ]
  },
  {
   "cell_type": "code",
   "execution_count": 73,
   "id": "3825b05c-ab0f-4412-be4a-115e6efb7103",
   "metadata": {},
   "outputs": [],
   "source": [
    "dftt2 = dftt.sort_values('Male', ascending = False)"
   ]
  },
  {
   "cell_type": "code",
   "execution_count": 75,
   "id": "5061e938-20a3-40cc-8214-2441416d42b6",
   "metadata": {},
   "outputs": [
    {
     "data": {
      "text/html": [
       "<div>\n",
       "<style scoped>\n",
       "    .dataframe tbody tr th:only-of-type {\n",
       "        vertical-align: middle;\n",
       "    }\n",
       "\n",
       "    .dataframe tbody tr th {\n",
       "        vertical-align: top;\n",
       "    }\n",
       "\n",
       "    .dataframe thead th {\n",
       "        text-align: right;\n",
       "    }\n",
       "</style>\n",
       "<table border=\"1\" class=\"dataframe\">\n",
       "  <thead>\n",
       "    <tr style=\"text-align: right;\">\n",
       "      <th></th>\n",
       "      <th>Male</th>\n",
       "    </tr>\n",
       "    <tr>\n",
       "      <th>Country</th>\n",
       "      <th></th>\n",
       "    </tr>\n",
       "  </thead>\n",
       "  <tbody>\n",
       "    <tr>\n",
       "      <th>Cook Islands</th>\n",
       "      <td>46.6</td>\n",
       "    </tr>\n",
       "    <tr>\n",
       "      <th>Palau</th>\n",
       "      <td>43.1</td>\n",
       "    </tr>\n",
       "    <tr>\n",
       "      <th>Qatar</th>\n",
       "      <td>40.0</td>\n",
       "    </tr>\n",
       "    <tr>\n",
       "      <th>Nauru</th>\n",
       "      <td>39.7</td>\n",
       "    </tr>\n",
       "    <tr>\n",
       "      <th>Niue</th>\n",
       "      <td>37.7</td>\n",
       "    </tr>\n",
       "    <tr>\n",
       "      <th>...</th>\n",
       "      <td>...</td>\n",
       "    </tr>\n",
       "    <tr>\n",
       "      <th>Eritrea</th>\n",
       "      <td>1.4</td>\n",
       "    </tr>\n",
       "    <tr>\n",
       "      <th>Myanmar</th>\n",
       "      <td>1.4</td>\n",
       "    </tr>\n",
       "    <tr>\n",
       "      <th>Timor-Leste</th>\n",
       "      <td>1.2</td>\n",
       "    </tr>\n",
       "    <tr>\n",
       "      <th>Rwanda</th>\n",
       "      <td>1.2</td>\n",
       "    </tr>\n",
       "    <tr>\n",
       "      <th>Burundi</th>\n",
       "      <td>0.7</td>\n",
       "    </tr>\n",
       "  </tbody>\n",
       "</table>\n",
       "<p>179 rows × 1 columns</p>\n",
       "</div>"
      ],
      "text/plain": [
       "              Male\n",
       "Country           \n",
       "Cook Islands  46.6\n",
       "Palau         43.1\n",
       "Qatar         40.0\n",
       "Nauru         39.7\n",
       "Niue          37.7\n",
       "...            ...\n",
       "Eritrea        1.4\n",
       "Myanmar        1.4\n",
       "Timor-Leste    1.2\n",
       "Rwanda         1.2\n",
       "Burundi        0.7\n",
       "\n",
       "[179 rows x 1 columns]"
      ]
     },
     "execution_count": 75,
     "metadata": {},
     "output_type": "execute_result"
    }
   ],
   "source": [
    "dftt2"
   ]
  },
  {
   "cell_type": "code",
   "execution_count": 76,
   "id": "85a4ee14-4ab8-488e-a2b8-87787770d3ab",
   "metadata": {},
   "outputs": [
    {
     "data": {
      "text/html": [
       "<div>\n",
       "<style scoped>\n",
       "    .dataframe tbody tr th:only-of-type {\n",
       "        vertical-align: middle;\n",
       "    }\n",
       "\n",
       "    .dataframe tbody tr th {\n",
       "        vertical-align: top;\n",
       "    }\n",
       "\n",
       "    .dataframe thead th {\n",
       "        text-align: right;\n",
       "    }\n",
       "</style>\n",
       "<table border=\"1\" class=\"dataframe\">\n",
       "  <thead>\n",
       "    <tr style=\"text-align: right;\">\n",
       "      <th></th>\n",
       "      <th>Male</th>\n",
       "    </tr>\n",
       "    <tr>\n",
       "      <th>Country</th>\n",
       "      <th></th>\n",
       "    </tr>\n",
       "  </thead>\n",
       "  <tbody>\n",
       "    <tr>\n",
       "      <th>Cook Islands</th>\n",
       "      <td>46.6</td>\n",
       "    </tr>\n",
       "    <tr>\n",
       "      <th>Palau</th>\n",
       "      <td>43.1</td>\n",
       "    </tr>\n",
       "    <tr>\n",
       "      <th>Qatar</th>\n",
       "      <td>40.0</td>\n",
       "    </tr>\n",
       "    <tr>\n",
       "      <th>Nauru</th>\n",
       "      <td>39.7</td>\n",
       "    </tr>\n",
       "    <tr>\n",
       "      <th>Niue</th>\n",
       "      <td>37.7</td>\n",
       "    </tr>\n",
       "    <tr>\n",
       "      <th>Marshall Islands</th>\n",
       "      <td>36.9</td>\n",
       "    </tr>\n",
       "    <tr>\n",
       "      <th>Tonga</th>\n",
       "      <td>36.4</td>\n",
       "    </tr>\n",
       "    <tr>\n",
       "      <th>Samoa</th>\n",
       "      <td>36.0</td>\n",
       "    </tr>\n",
       "    <tr>\n",
       "      <th>Kuwait</th>\n",
       "      <td>35.5</td>\n",
       "    </tr>\n",
       "    <tr>\n",
       "      <th>Tuvalu</th>\n",
       "      <td>34.5</td>\n",
       "    </tr>\n",
       "  </tbody>\n",
       "</table>\n",
       "</div>"
      ],
      "text/plain": [
       "                  Male\n",
       "Country               \n",
       "Cook Islands      46.6\n",
       "Palau             43.1\n",
       "Qatar             40.0\n",
       "Nauru             39.7\n",
       "Niue              37.7\n",
       "Marshall Islands  36.9\n",
       "Tonga             36.4\n",
       "Samoa             36.0\n",
       "Kuwait            35.5\n",
       "Tuvalu            34.5"
      ]
     },
     "execution_count": 76,
     "metadata": {},
     "output_type": "execute_result"
    }
   ],
   "source": [
    "dftt2[:10]"
   ]
  },
  {
   "cell_type": "markdown",
   "id": "8d3c1c7c-b45f-4747-92b6-68b43aed604b",
   "metadata": {},
   "source": [
    "<H3> The top ten Countries with the highest Female obesity rate"
   ]
  },
  {
   "cell_type": "code",
   "execution_count": 80,
   "id": "2527f2cf-5f64-43c0-9d9f-3c39431cbff5",
   "metadata": {},
   "outputs": [],
   "source": [
    "dftt = pd.DataFrame(df.groupby('Country')['Female'].sum())"
   ]
  },
  {
   "cell_type": "code",
   "execution_count": 81,
   "id": "f35d013f-6cee-4f5b-9905-1a09a668a761",
   "metadata": {},
   "outputs": [
    {
     "data": {
      "text/html": [
       "<div>\n",
       "<style scoped>\n",
       "    .dataframe tbody tr th:only-of-type {\n",
       "        vertical-align: middle;\n",
       "    }\n",
       "\n",
       "    .dataframe tbody tr th {\n",
       "        vertical-align: top;\n",
       "    }\n",
       "\n",
       "    .dataframe thead th {\n",
       "        text-align: right;\n",
       "    }\n",
       "</style>\n",
       "<table border=\"1\" class=\"dataframe\">\n",
       "  <thead>\n",
       "    <tr style=\"text-align: right;\">\n",
       "      <th></th>\n",
       "      <th>Female</th>\n",
       "    </tr>\n",
       "    <tr>\n",
       "      <th>Country</th>\n",
       "      <th></th>\n",
       "    </tr>\n",
       "  </thead>\n",
       "  <tbody>\n",
       "    <tr>\n",
       "      <th>Afghanistan</th>\n",
       "      <td>4.1</td>\n",
       "    </tr>\n",
       "    <tr>\n",
       "      <th>Albania</th>\n",
       "      <td>18.7</td>\n",
       "    </tr>\n",
       "    <tr>\n",
       "      <th>Algeria</th>\n",
       "      <td>30.8</td>\n",
       "    </tr>\n",
       "    <tr>\n",
       "      <th>Andorra</th>\n",
       "      <td>30.5</td>\n",
       "    </tr>\n",
       "    <tr>\n",
       "      <th>Angola</th>\n",
       "      <td>14.2</td>\n",
       "    </tr>\n",
       "    <tr>\n",
       "      <th>...</th>\n",
       "      <td>...</td>\n",
       "    </tr>\n",
       "    <tr>\n",
       "      <th>Uzbekistan</th>\n",
       "      <td>18.9</td>\n",
       "    </tr>\n",
       "    <tr>\n",
       "      <th>Vanuatu</th>\n",
       "      <td>41.5</td>\n",
       "    </tr>\n",
       "    <tr>\n",
       "      <th>Yemen</th>\n",
       "      <td>23.4</td>\n",
       "    </tr>\n",
       "    <tr>\n",
       "      <th>Zambia</th>\n",
       "      <td>14.3</td>\n",
       "    </tr>\n",
       "    <tr>\n",
       "      <th>Zimbabwe</th>\n",
       "      <td>18.5</td>\n",
       "    </tr>\n",
       "  </tbody>\n",
       "</table>\n",
       "<p>179 rows × 1 columns</p>\n",
       "</div>"
      ],
      "text/plain": [
       "             Female\n",
       "Country            \n",
       "Afghanistan     4.1\n",
       "Albania        18.7\n",
       "Algeria        30.8\n",
       "Andorra        30.5\n",
       "Angola         14.2\n",
       "...             ...\n",
       "Uzbekistan     18.9\n",
       "Vanuatu        41.5\n",
       "Yemen          23.4\n",
       "Zambia         14.3\n",
       "Zimbabwe       18.5\n",
       "\n",
       "[179 rows x 1 columns]"
      ]
     },
     "execution_count": 81,
     "metadata": {},
     "output_type": "execute_result"
    }
   ],
   "source": [
    "dftt"
   ]
  },
  {
   "cell_type": "code",
   "execution_count": 84,
   "id": "53a4bd5a-43c7-4164-be11-bfe94dc87aa0",
   "metadata": {},
   "outputs": [],
   "source": [
    "dftt2 = dftt.sort_values('Female', ascending = False)"
   ]
  },
  {
   "cell_type": "code",
   "execution_count": 86,
   "id": "314acea1-234e-4b52-8ab0-feb46d98b223",
   "metadata": {},
   "outputs": [
    {
     "data": {
      "text/html": [
       "<div>\n",
       "<style scoped>\n",
       "    .dataframe tbody tr th:only-of-type {\n",
       "        vertical-align: middle;\n",
       "    }\n",
       "\n",
       "    .dataframe tbody tr th {\n",
       "        vertical-align: top;\n",
       "    }\n",
       "\n",
       "    .dataframe thead th {\n",
       "        text-align: right;\n",
       "    }\n",
       "</style>\n",
       "<table border=\"1\" class=\"dataframe\">\n",
       "  <thead>\n",
       "    <tr style=\"text-align: right;\">\n",
       "      <th></th>\n",
       "      <th>Female</th>\n",
       "    </tr>\n",
       "    <tr>\n",
       "      <th>Country</th>\n",
       "      <th></th>\n",
       "    </tr>\n",
       "  </thead>\n",
       "  <tbody>\n",
       "    <tr>\n",
       "      <th>Cook Islands</th>\n",
       "      <td>55.1</td>\n",
       "    </tr>\n",
       "    <tr>\n",
       "      <th>Palau</th>\n",
       "      <td>52.2</td>\n",
       "    </tr>\n",
       "    <tr>\n",
       "      <th>Nauru</th>\n",
       "      <td>51.6</td>\n",
       "    </tr>\n",
       "    <tr>\n",
       "      <th>Samoa</th>\n",
       "      <td>51.3</td>\n",
       "    </tr>\n",
       "    <tr>\n",
       "      <th>Tonga</th>\n",
       "      <td>50.1</td>\n",
       "    </tr>\n",
       "    <tr>\n",
       "      <th>...</th>\n",
       "      <td>...</td>\n",
       "    </tr>\n",
       "    <tr>\n",
       "      <th>Burundi</th>\n",
       "      <td>4.5</td>\n",
       "    </tr>\n",
       "    <tr>\n",
       "      <th>Myanmar</th>\n",
       "      <td>4.3</td>\n",
       "    </tr>\n",
       "    <tr>\n",
       "      <th>Afghanistan</th>\n",
       "      <td>4.1</td>\n",
       "    </tr>\n",
       "    <tr>\n",
       "      <th>Timor-Leste</th>\n",
       "      <td>3.2</td>\n",
       "    </tr>\n",
       "    <tr>\n",
       "      <th>Japan</th>\n",
       "      <td>3.2</td>\n",
       "    </tr>\n",
       "  </tbody>\n",
       "</table>\n",
       "<p>179 rows × 1 columns</p>\n",
       "</div>"
      ],
      "text/plain": [
       "              Female\n",
       "Country             \n",
       "Cook Islands    55.1\n",
       "Palau           52.2\n",
       "Nauru           51.6\n",
       "Samoa           51.3\n",
       "Tonga           50.1\n",
       "...              ...\n",
       "Burundi          4.5\n",
       "Myanmar          4.3\n",
       "Afghanistan      4.1\n",
       "Timor-Leste      3.2\n",
       "Japan            3.2\n",
       "\n",
       "[179 rows x 1 columns]"
      ]
     },
     "execution_count": 86,
     "metadata": {},
     "output_type": "execute_result"
    }
   ],
   "source": [
    "dftt2"
   ]
  },
  {
   "cell_type": "code",
   "execution_count": 87,
   "id": "dea657a8-5918-4030-849f-b5f504a05ec3",
   "metadata": {},
   "outputs": [
    {
     "data": {
      "text/html": [
       "<div>\n",
       "<style scoped>\n",
       "    .dataframe tbody tr th:only-of-type {\n",
       "        vertical-align: middle;\n",
       "    }\n",
       "\n",
       "    .dataframe tbody tr th {\n",
       "        vertical-align: top;\n",
       "    }\n",
       "\n",
       "    .dataframe thead th {\n",
       "        text-align: right;\n",
       "    }\n",
       "</style>\n",
       "<table border=\"1\" class=\"dataframe\">\n",
       "  <thead>\n",
       "    <tr style=\"text-align: right;\">\n",
       "      <th></th>\n",
       "      <th>Female</th>\n",
       "    </tr>\n",
       "    <tr>\n",
       "      <th>Country</th>\n",
       "      <th></th>\n",
       "    </tr>\n",
       "  </thead>\n",
       "  <tbody>\n",
       "    <tr>\n",
       "      <th>Cook Islands</th>\n",
       "      <td>55.1</td>\n",
       "    </tr>\n",
       "    <tr>\n",
       "      <th>Palau</th>\n",
       "      <td>52.2</td>\n",
       "    </tr>\n",
       "    <tr>\n",
       "      <th>Nauru</th>\n",
       "      <td>51.6</td>\n",
       "    </tr>\n",
       "    <tr>\n",
       "      <th>Samoa</th>\n",
       "      <td>51.3</td>\n",
       "    </tr>\n",
       "    <tr>\n",
       "      <th>Tonga</th>\n",
       "      <td>50.1</td>\n",
       "    </tr>\n",
       "    <tr>\n",
       "      <th>Qatar</th>\n",
       "      <td>49.7</td>\n",
       "    </tr>\n",
       "    <tr>\n",
       "      <th>Niue</th>\n",
       "      <td>49.0</td>\n",
       "    </tr>\n",
       "    <tr>\n",
       "      <th>Marshall Islands</th>\n",
       "      <td>48.9</td>\n",
       "    </tr>\n",
       "    <tr>\n",
       "      <th>Kiribati</th>\n",
       "      <td>48.5</td>\n",
       "    </tr>\n",
       "    <tr>\n",
       "      <th>Tuvalu</th>\n",
       "      <td>46.4</td>\n",
       "    </tr>\n",
       "  </tbody>\n",
       "</table>\n",
       "</div>"
      ],
      "text/plain": [
       "                  Female\n",
       "Country                 \n",
       "Cook Islands        55.1\n",
       "Palau               52.2\n",
       "Nauru               51.6\n",
       "Samoa               51.3\n",
       "Tonga               50.1\n",
       "Qatar               49.7\n",
       "Niue                49.0\n",
       "Marshall Islands    48.9\n",
       "Kiribati            48.5\n",
       "Tuvalu              46.4"
      ]
     },
     "execution_count": 87,
     "metadata": {},
     "output_type": "execute_result"
    }
   ],
   "source": [
    "dftt2[:10]"
   ]
  },
  {
   "cell_type": "markdown",
   "id": "d9fed722-f918-437c-8be1-199c8bf3c7c6",
   "metadata": {},
   "source": [
    "<H3> Top ten Countries with the highest obesity value "
   ]
  },
  {
   "cell_type": "code",
   "execution_count": 91,
   "id": "f74ac526-c8fe-46e5-8e66-f42c3d8b44a0",
   "metadata": {},
   "outputs": [],
   "source": [
    "dftt = pd.DataFrame(df.groupby('Country')['value'].sum())"
   ]
  },
  {
   "cell_type": "code",
   "execution_count": 93,
   "id": "ac1e2e9e-fe3c-4400-991f-73326e5939af",
   "metadata": {},
   "outputs": [
    {
     "data": {
      "text/html": [
       "<div>\n",
       "<style scoped>\n",
       "    .dataframe tbody tr th:only-of-type {\n",
       "        vertical-align: middle;\n",
       "    }\n",
       "\n",
       "    .dataframe tbody tr th {\n",
       "        vertical-align: top;\n",
       "    }\n",
       "\n",
       "    .dataframe thead th {\n",
       "        text-align: right;\n",
       "    }\n",
       "</style>\n",
       "<table border=\"1\" class=\"dataframe\">\n",
       "  <thead>\n",
       "    <tr style=\"text-align: right;\">\n",
       "      <th></th>\n",
       "      <th>value</th>\n",
       "    </tr>\n",
       "    <tr>\n",
       "      <th>Country</th>\n",
       "      <th></th>\n",
       "    </tr>\n",
       "  </thead>\n",
       "  <tbody>\n",
       "    <tr>\n",
       "      <th>Afghanistan</th>\n",
       "      <td>2.9</td>\n",
       "    </tr>\n",
       "    <tr>\n",
       "      <th>Albania</th>\n",
       "      <td>17.6</td>\n",
       "    </tr>\n",
       "    <tr>\n",
       "      <th>Algeria</th>\n",
       "      <td>24.8</td>\n",
       "    </tr>\n",
       "    <tr>\n",
       "      <th>Andorra</th>\n",
       "      <td>29.5</td>\n",
       "    </tr>\n",
       "    <tr>\n",
       "      <th>Angola</th>\n",
       "      <td>10.2</td>\n",
       "    </tr>\n",
       "    <tr>\n",
       "      <th>...</th>\n",
       "      <td>...</td>\n",
       "    </tr>\n",
       "    <tr>\n",
       "      <th>Uzbekistan</th>\n",
       "      <td>15.5</td>\n",
       "    </tr>\n",
       "    <tr>\n",
       "      <th>Vanuatu</th>\n",
       "      <td>35.4</td>\n",
       "    </tr>\n",
       "    <tr>\n",
       "      <th>Yemen</th>\n",
       "      <td>17.2</td>\n",
       "    </tr>\n",
       "    <tr>\n",
       "      <th>Zambia</th>\n",
       "      <td>8.9</td>\n",
       "    </tr>\n",
       "    <tr>\n",
       "      <th>Zimbabwe</th>\n",
       "      <td>10.5</td>\n",
       "    </tr>\n",
       "  </tbody>\n",
       "</table>\n",
       "<p>179 rows × 1 columns</p>\n",
       "</div>"
      ],
      "text/plain": [
       "             value\n",
       "Country           \n",
       "Afghanistan    2.9\n",
       "Albania       17.6\n",
       "Algeria       24.8\n",
       "Andorra       29.5\n",
       "Angola        10.2\n",
       "...            ...\n",
       "Uzbekistan    15.5\n",
       "Vanuatu       35.4\n",
       "Yemen         17.2\n",
       "Zambia         8.9\n",
       "Zimbabwe      10.5\n",
       "\n",
       "[179 rows x 1 columns]"
      ]
     },
     "execution_count": 93,
     "metadata": {},
     "output_type": "execute_result"
    }
   ],
   "source": [
    "dftt"
   ]
  },
  {
   "cell_type": "code",
   "execution_count": 95,
   "id": "3cda14f6-abb2-40d7-af7a-a3725eff986b",
   "metadata": {},
   "outputs": [],
   "source": [
    "dftt2 = dftt.sort_values('value', ascending = False)"
   ]
  },
  {
   "cell_type": "code",
   "execution_count": 97,
   "id": "c67c8934-1fcb-43e3-9bc2-62decdbab371",
   "metadata": {},
   "outputs": [
    {
     "data": {
      "text/html": [
       "<div>\n",
       "<style scoped>\n",
       "    .dataframe tbody tr th:only-of-type {\n",
       "        vertical-align: middle;\n",
       "    }\n",
       "\n",
       "    .dataframe tbody tr th {\n",
       "        vertical-align: top;\n",
       "    }\n",
       "\n",
       "    .dataframe thead th {\n",
       "        text-align: right;\n",
       "    }\n",
       "</style>\n",
       "<table border=\"1\" class=\"dataframe\">\n",
       "  <thead>\n",
       "    <tr style=\"text-align: right;\">\n",
       "      <th></th>\n",
       "      <th>value</th>\n",
       "    </tr>\n",
       "    <tr>\n",
       "      <th>Country</th>\n",
       "      <th></th>\n",
       "    </tr>\n",
       "  </thead>\n",
       "  <tbody>\n",
       "    <tr>\n",
       "      <th>Cook Islands</th>\n",
       "      <td>50.8</td>\n",
       "    </tr>\n",
       "    <tr>\n",
       "      <th>Palau</th>\n",
       "      <td>47.6</td>\n",
       "    </tr>\n",
       "    <tr>\n",
       "      <th>Nauru</th>\n",
       "      <td>45.6</td>\n",
       "    </tr>\n",
       "    <tr>\n",
       "      <th>Samoa</th>\n",
       "      <td>43.4</td>\n",
       "    </tr>\n",
       "    <tr>\n",
       "      <th>Tonga</th>\n",
       "      <td>43.3</td>\n",
       "    </tr>\n",
       "    <tr>\n",
       "      <th>...</th>\n",
       "      <td>...</td>\n",
       "    </tr>\n",
       "    <tr>\n",
       "      <th>Cambodia</th>\n",
       "      <td>3.2</td>\n",
       "    </tr>\n",
       "    <tr>\n",
       "      <th>Myanmar</th>\n",
       "      <td>2.9</td>\n",
       "    </tr>\n",
       "    <tr>\n",
       "      <th>Afghanistan</th>\n",
       "      <td>2.9</td>\n",
       "    </tr>\n",
       "    <tr>\n",
       "      <th>Burundi</th>\n",
       "      <td>2.6</td>\n",
       "    </tr>\n",
       "    <tr>\n",
       "      <th>Timor-Leste</th>\n",
       "      <td>2.2</td>\n",
       "    </tr>\n",
       "  </tbody>\n",
       "</table>\n",
       "<p>179 rows × 1 columns</p>\n",
       "</div>"
      ],
      "text/plain": [
       "              value\n",
       "Country            \n",
       "Cook Islands   50.8\n",
       "Palau          47.6\n",
       "Nauru          45.6\n",
       "Samoa          43.4\n",
       "Tonga          43.3\n",
       "...             ...\n",
       "Cambodia        3.2\n",
       "Myanmar         2.9\n",
       "Afghanistan     2.9\n",
       "Burundi         2.6\n",
       "Timor-Leste     2.2\n",
       "\n",
       "[179 rows x 1 columns]"
      ]
     },
     "execution_count": 97,
     "metadata": {},
     "output_type": "execute_result"
    }
   ],
   "source": [
    "dftt2"
   ]
  },
  {
   "cell_type": "code",
   "execution_count": 99,
   "id": "b014a458-5573-4b5e-b3b3-b239f4b4d685",
   "metadata": {},
   "outputs": [
    {
     "data": {
      "text/html": [
       "<div>\n",
       "<style scoped>\n",
       "    .dataframe tbody tr th:only-of-type {\n",
       "        vertical-align: middle;\n",
       "    }\n",
       "\n",
       "    .dataframe tbody tr th {\n",
       "        vertical-align: top;\n",
       "    }\n",
       "\n",
       "    .dataframe thead th {\n",
       "        text-align: right;\n",
       "    }\n",
       "</style>\n",
       "<table border=\"1\" class=\"dataframe\">\n",
       "  <thead>\n",
       "    <tr style=\"text-align: right;\">\n",
       "      <th></th>\n",
       "      <th>value</th>\n",
       "    </tr>\n",
       "    <tr>\n",
       "      <th>Country</th>\n",
       "      <th></th>\n",
       "    </tr>\n",
       "  </thead>\n",
       "  <tbody>\n",
       "    <tr>\n",
       "      <th>Cook Islands</th>\n",
       "      <td>50.8</td>\n",
       "    </tr>\n",
       "    <tr>\n",
       "      <th>Palau</th>\n",
       "      <td>47.6</td>\n",
       "    </tr>\n",
       "    <tr>\n",
       "      <th>Nauru</th>\n",
       "      <td>45.6</td>\n",
       "    </tr>\n",
       "    <tr>\n",
       "      <th>Samoa</th>\n",
       "      <td>43.4</td>\n",
       "    </tr>\n",
       "    <tr>\n",
       "      <th>Tonga</th>\n",
       "      <td>43.3</td>\n",
       "    </tr>\n",
       "    <tr>\n",
       "      <th>Niue</th>\n",
       "      <td>43.2</td>\n",
       "    </tr>\n",
       "    <tr>\n",
       "      <th>Marshall Islands</th>\n",
       "      <td>42.8</td>\n",
       "    </tr>\n",
       "    <tr>\n",
       "      <th>Qatar</th>\n",
       "      <td>42.3</td>\n",
       "    </tr>\n",
       "    <tr>\n",
       "      <th>Kiribati</th>\n",
       "      <td>40.6</td>\n",
       "    </tr>\n",
       "    <tr>\n",
       "      <th>Tuvalu</th>\n",
       "      <td>40.3</td>\n",
       "    </tr>\n",
       "  </tbody>\n",
       "</table>\n",
       "</div>"
      ],
      "text/plain": [
       "                  value\n",
       "Country                \n",
       "Cook Islands       50.8\n",
       "Palau              47.6\n",
       "Nauru              45.6\n",
       "Samoa              43.4\n",
       "Tonga              43.3\n",
       "Niue               43.2\n",
       "Marshall Islands   42.8\n",
       "Qatar              42.3\n",
       "Kiribati           40.6\n",
       "Tuvalu             40.3"
      ]
     },
     "execution_count": 99,
     "metadata": {},
     "output_type": "execute_result"
    }
   ],
   "source": [
    "dftt2[:10]"
   ]
  },
  {
   "cell_type": "code",
   "execution_count": null,
   "id": "383e70fc-7801-4f3c-91bc-96382db5e004",
   "metadata": {},
   "outputs": [],
   "source": []
  }
 ],
 "metadata": {
  "kernelspec": {
   "display_name": "Python 3 (ipykernel)",
   "language": "python",
   "name": "python3"
  },
  "language_info": {
   "codemirror_mode": {
    "name": "ipython",
    "version": 3
   },
   "file_extension": ".py",
   "mimetype": "text/x-python",
   "name": "python",
   "nbconvert_exporter": "python",
   "pygments_lexer": "ipython3",
   "version": "3.11.5"
  }
 },
 "nbformat": 4,
 "nbformat_minor": 5
}
