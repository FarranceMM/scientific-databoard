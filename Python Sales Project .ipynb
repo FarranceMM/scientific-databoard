{
 "cells": [
  {
   "cell_type": "code",
   "execution_count": 1,
   "id": "f4a150b9-05cc-4fb1-b650-b6af3ee47d70",
   "metadata": {},
   "outputs": [],
   "source": [
    "import numpy as np\n",
    "import pandas as pd\n",
    "from sklearn.impute import SimpleImputer\n",
    "from pandas import ExcelWriter\n",
    "from pandas import ExcelFile\n",
    "import matplotlib.pyplot as plt\n",
    "import seaborn as sns\n",
    "from matplotlib.patches import Rectangle\n",
    "from adjustText import adjust_text\n",
    "import omniplot.plot as op"
   ]
  },
  {
   "cell_type": "markdown",
   "id": "44e33f0c-efe7-4e7e-991f-fd21087dbf0d",
   "metadata": {},
   "source": [
    "<H5> This dataset is about data that have been combined that showcases the sales of different drinks \n",
    "purchased by customers from different states between 2020 and 2023."
   ]
  },
  {
   "cell_type": "code",
   "execution_count": 4,
   "id": "00491def-f225-44dc-b757-3328fa5b151c",
   "metadata": {},
   "outputs": [],
   "source": [
    "df = pd.read_csv('D:/Data/soft_drink_sales.csv', sep = ',')"
   ]
  },
  {
   "cell_type": "code",
   "execution_count": 5,
   "id": "f074ed8f-7b3e-452f-85ca-7490e2ebf318",
   "metadata": {},
   "outputs": [
    {
     "data": {
      "text/html": [
       "<div>\n",
       "<style scoped>\n",
       "    .dataframe tbody tr th:only-of-type {\n",
       "        vertical-align: middle;\n",
       "    }\n",
       "\n",
       "    .dataframe tbody tr th {\n",
       "        vertical-align: top;\n",
       "    }\n",
       "\n",
       "    .dataframe thead th {\n",
       "        text-align: right;\n",
       "    }\n",
       "</style>\n",
       "<table border=\"1\" class=\"dataframe\">\n",
       "  <thead>\n",
       "    <tr style=\"text-align: right;\">\n",
       "      <th></th>\n",
       "      <th>Product</th>\n",
       "      <th>Company</th>\n",
       "      <th>Category</th>\n",
       "      <th>Units Sold</th>\n",
       "      <th>Revenue</th>\n",
       "      <th>Cost of Goods Sold</th>\n",
       "      <th>Profit</th>\n",
       "      <th>Purchase Date</th>\n",
       "      <th>Customer Name</th>\n",
       "      <th>Customer State</th>\n",
       "      <th>Customer City</th>\n",
       "      <th>Customer Zip Code</th>\n",
       "      <th>Order ID</th>\n",
       "    </tr>\n",
       "  </thead>\n",
       "  <tbody>\n",
       "    <tr>\n",
       "      <th>0</th>\n",
       "      <td>Coffee</td>\n",
       "      <td>Coca-Cola</td>\n",
       "      <td>Coffee</td>\n",
       "      <td>151</td>\n",
       "      <td>2141</td>\n",
       "      <td>4956</td>\n",
       "      <td>-2815</td>\n",
       "      <td>2020-07-04</td>\n",
       "      <td>Angela Wilson</td>\n",
       "      <td>California</td>\n",
       "      <td>East Danielleview</td>\n",
       "      <td>35273</td>\n",
       "      <td>1-143-51064-X</td>\n",
       "    </tr>\n",
       "    <tr>\n",
       "      <th>1</th>\n",
       "      <td>Coffee</td>\n",
       "      <td>Coca-Cola</td>\n",
       "      <td>Coffee</td>\n",
       "      <td>624</td>\n",
       "      <td>1620</td>\n",
       "      <td>1156</td>\n",
       "      <td>464</td>\n",
       "      <td>2021-04-09</td>\n",
       "      <td>Zachary Wheeler</td>\n",
       "      <td>Wisconsin</td>\n",
       "      <td>New Kimberlyshire</td>\n",
       "      <td>55509</td>\n",
       "      <td>1-163-25655-2</td>\n",
       "    </tr>\n",
       "    <tr>\n",
       "      <th>2</th>\n",
       "      <td>Wine</td>\n",
       "      <td>Coca-Cola</td>\n",
       "      <td>Alcoholic</td>\n",
       "      <td>853</td>\n",
       "      <td>9978</td>\n",
       "      <td>1030</td>\n",
       "      <td>8948</td>\n",
       "      <td>2022-03-10</td>\n",
       "      <td>Jeremy Arroyo</td>\n",
       "      <td>Massachusetts</td>\n",
       "      <td>Vickieshire</td>\n",
       "      <td>93236</td>\n",
       "      <td>0-345-30366-0</td>\n",
       "    </tr>\n",
       "    <tr>\n",
       "      <th>3</th>\n",
       "      <td>Green Tea</td>\n",
       "      <td>Dr. Pepper</td>\n",
       "      <td>Tea</td>\n",
       "      <td>962</td>\n",
       "      <td>5974</td>\n",
       "      <td>5279</td>\n",
       "      <td>695</td>\n",
       "      <td>2023-05-10</td>\n",
       "      <td>Andrew Fleming</td>\n",
       "      <td>Arizona</td>\n",
       "      <td>Albertberg</td>\n",
       "      <td>34895</td>\n",
       "      <td>1-4844-8219-0</td>\n",
       "    </tr>\n",
       "    <tr>\n",
       "      <th>4</th>\n",
       "      <td>Vodka</td>\n",
       "      <td>Dr. Pepper</td>\n",
       "      <td>Alcoholic</td>\n",
       "      <td>719</td>\n",
       "      <td>3928</td>\n",
       "      <td>2828</td>\n",
       "      <td>1100</td>\n",
       "      <td>2020-11-19</td>\n",
       "      <td>Caroline Smith</td>\n",
       "      <td>Indiana</td>\n",
       "      <td>Johnsonstad</td>\n",
       "      <td>90201</td>\n",
       "      <td>1-85816-387-0</td>\n",
       "    </tr>\n",
       "    <tr>\n",
       "      <th>...</th>\n",
       "      <td>...</td>\n",
       "      <td>...</td>\n",
       "      <td>...</td>\n",
       "      <td>...</td>\n",
       "      <td>...</td>\n",
       "      <td>...</td>\n",
       "      <td>...</td>\n",
       "      <td>...</td>\n",
       "      <td>...</td>\n",
       "      <td>...</td>\n",
       "      <td>...</td>\n",
       "      <td>...</td>\n",
       "      <td>...</td>\n",
       "    </tr>\n",
       "    <tr>\n",
       "      <th>9995</th>\n",
       "      <td>Wine</td>\n",
       "      <td>Dr. Pepper</td>\n",
       "      <td>Alcoholic</td>\n",
       "      <td>337</td>\n",
       "      <td>6676</td>\n",
       "      <td>1932</td>\n",
       "      <td>4744</td>\n",
       "      <td>2020-02-15</td>\n",
       "      <td>Kyle Morris</td>\n",
       "      <td>New Mexico</td>\n",
       "      <td>Heatherbury</td>\n",
       "      <td>80789</td>\n",
       "      <td>0-7733-9949-6</td>\n",
       "    </tr>\n",
       "    <tr>\n",
       "      <th>9996</th>\n",
       "      <td>Green Tea</td>\n",
       "      <td>Coca-Cola</td>\n",
       "      <td>Tea</td>\n",
       "      <td>745</td>\n",
       "      <td>1096</td>\n",
       "      <td>1603</td>\n",
       "      <td>-507</td>\n",
       "      <td>2023-02-02</td>\n",
       "      <td>Jacqueline Mendez</td>\n",
       "      <td>Tennessee</td>\n",
       "      <td>South Charles</td>\n",
       "      <td>42497</td>\n",
       "      <td>0-13-801494-9</td>\n",
       "    </tr>\n",
       "    <tr>\n",
       "      <th>9997</th>\n",
       "      <td>Energy Drink</td>\n",
       "      <td>Pepsi</td>\n",
       "      <td>Soft Drink</td>\n",
       "      <td>728</td>\n",
       "      <td>4703</td>\n",
       "      <td>5135</td>\n",
       "      <td>-432</td>\n",
       "      <td>2020-01-14</td>\n",
       "      <td>Taylor Robinson</td>\n",
       "      <td>Virginia</td>\n",
       "      <td>West Susanchester</td>\n",
       "      <td>13202</td>\n",
       "      <td>1-893420-14-0</td>\n",
       "    </tr>\n",
       "    <tr>\n",
       "      <th>9998</th>\n",
       "      <td>Cola</td>\n",
       "      <td>Coca-Cola</td>\n",
       "      <td>Soft Drink</td>\n",
       "      <td>142</td>\n",
       "      <td>3655</td>\n",
       "      <td>6436</td>\n",
       "      <td>-2781</td>\n",
       "      <td>2022-10-28</td>\n",
       "      <td>Sierra Morrison</td>\n",
       "      <td>Montana</td>\n",
       "      <td>Perezfort</td>\n",
       "      <td>66758</td>\n",
       "      <td>1-5413-2685-7</td>\n",
       "    </tr>\n",
       "    <tr>\n",
       "      <th>9999</th>\n",
       "      <td>Lemonade</td>\n",
       "      <td>Coca-Cola</td>\n",
       "      <td>Soft Drink</td>\n",
       "      <td>703</td>\n",
       "      <td>7202</td>\n",
       "      <td>5593</td>\n",
       "      <td>1609</td>\n",
       "      <td>2021-10-09</td>\n",
       "      <td>Joanna Mendez</td>\n",
       "      <td>Utah</td>\n",
       "      <td>Leonbury</td>\n",
       "      <td>64499</td>\n",
       "      <td>0-03-548200-1</td>\n",
       "    </tr>\n",
       "  </tbody>\n",
       "</table>\n",
       "<p>10000 rows × 13 columns</p>\n",
       "</div>"
      ],
      "text/plain": [
       "           Product     Company    Category  Units Sold  Revenue  \\\n",
       "0           Coffee   Coca-Cola      Coffee         151     2141   \n",
       "1           Coffee   Coca-Cola      Coffee         624     1620   \n",
       "2             Wine   Coca-Cola   Alcoholic         853     9978   \n",
       "3        Green Tea  Dr. Pepper         Tea         962     5974   \n",
       "4            Vodka  Dr. Pepper   Alcoholic         719     3928   \n",
       "...            ...         ...         ...         ...      ...   \n",
       "9995          Wine  Dr. Pepper   Alcoholic         337     6676   \n",
       "9996     Green Tea   Coca-Cola         Tea         745     1096   \n",
       "9997  Energy Drink       Pepsi  Soft Drink         728     4703   \n",
       "9998          Cola   Coca-Cola  Soft Drink         142     3655   \n",
       "9999      Lemonade   Coca-Cola  Soft Drink         703     7202   \n",
       "\n",
       "      Cost of Goods Sold  Profit Purchase Date      Customer Name  \\\n",
       "0                   4956   -2815    2020-07-04      Angela Wilson   \n",
       "1                   1156     464    2021-04-09    Zachary Wheeler   \n",
       "2                   1030    8948    2022-03-10      Jeremy Arroyo   \n",
       "3                   5279     695    2023-05-10     Andrew Fleming   \n",
       "4                   2828    1100    2020-11-19     Caroline Smith   \n",
       "...                  ...     ...           ...                ...   \n",
       "9995                1932    4744    2020-02-15        Kyle Morris   \n",
       "9996                1603    -507    2023-02-02  Jacqueline Mendez   \n",
       "9997                5135    -432    2020-01-14    Taylor Robinson   \n",
       "9998                6436   -2781    2022-10-28    Sierra Morrison   \n",
       "9999                5593    1609    2021-10-09      Joanna Mendez   \n",
       "\n",
       "     Customer State      Customer City  Customer Zip Code       Order ID  \n",
       "0        California  East Danielleview              35273  1-143-51064-X  \n",
       "1         Wisconsin  New Kimberlyshire              55509  1-163-25655-2  \n",
       "2     Massachusetts        Vickieshire              93236  0-345-30366-0  \n",
       "3           Arizona         Albertberg              34895  1-4844-8219-0  \n",
       "4           Indiana        Johnsonstad              90201  1-85816-387-0  \n",
       "...             ...                ...                ...            ...  \n",
       "9995     New Mexico        Heatherbury              80789  0-7733-9949-6  \n",
       "9996      Tennessee      South Charles              42497  0-13-801494-9  \n",
       "9997       Virginia  West Susanchester              13202  1-893420-14-0  \n",
       "9998        Montana          Perezfort              66758  1-5413-2685-7  \n",
       "9999           Utah           Leonbury              64499  0-03-548200-1  \n",
       "\n",
       "[10000 rows x 13 columns]"
      ]
     },
     "execution_count": 5,
     "metadata": {},
     "output_type": "execute_result"
    }
   ],
   "source": [
    "df"
   ]
  },
  {
   "cell_type": "markdown",
   "id": "e00314b7-d452-4ee7-a92a-0e72e2a6b528",
   "metadata": {},
   "source": [
    "# Data Cleansing"
   ]
  },
  {
   "cell_type": "code",
   "execution_count": 9,
   "id": "820a41e4-e483-4830-9c44-6707fc32c82d",
   "metadata": {},
   "outputs": [
    {
     "data": {
      "text/html": [
       "<div>\n",
       "<style scoped>\n",
       "    .dataframe tbody tr th:only-of-type {\n",
       "        vertical-align: middle;\n",
       "    }\n",
       "\n",
       "    .dataframe tbody tr th {\n",
       "        vertical-align: top;\n",
       "    }\n",
       "\n",
       "    .dataframe thead th {\n",
       "        text-align: right;\n",
       "    }\n",
       "</style>\n",
       "<table border=\"1\" class=\"dataframe\">\n",
       "  <thead>\n",
       "    <tr style=\"text-align: right;\">\n",
       "      <th></th>\n",
       "      <th>Product</th>\n",
       "      <th>Company</th>\n",
       "      <th>Category</th>\n",
       "      <th>Units Sold</th>\n",
       "      <th>Revenue</th>\n",
       "      <th>Cost of Goods Sold</th>\n",
       "      <th>Profit</th>\n",
       "      <th>Purchase Date</th>\n",
       "      <th>Customer Name</th>\n",
       "      <th>Customer State</th>\n",
       "      <th>Customer City</th>\n",
       "      <th>Customer Zip Code</th>\n",
       "      <th>Order ID</th>\n",
       "    </tr>\n",
       "  </thead>\n",
       "  <tbody>\n",
       "    <tr>\n",
       "      <th>8575</th>\n",
       "      <td>Herbal Tea</td>\n",
       "      <td>Coca-Cola</td>\n",
       "      <td>Tea</td>\n",
       "      <td>537</td>\n",
       "      <td>4247</td>\n",
       "      <td>6205</td>\n",
       "      <td>-1958</td>\n",
       "      <td>2022-03-23</td>\n",
       "      <td>Maria Sanchez</td>\n",
       "      <td>New York</td>\n",
       "      <td>Amyton</td>\n",
       "      <td>19701</td>\n",
       "      <td>1-343-01528-6</td>\n",
       "    </tr>\n",
       "  </tbody>\n",
       "</table>\n",
       "</div>"
      ],
      "text/plain": [
       "         Product    Company Category  Units Sold  Revenue  Cost of Goods Sold  \\\n",
       "8575  Herbal Tea  Coca-Cola      Tea         537     4247                6205   \n",
       "\n",
       "      Profit Purchase Date  Customer Name Customer State Customer City  \\\n",
       "8575   -1958    2022-03-23  Maria Sanchez       New York        Amyton   \n",
       "\n",
       "      Customer Zip Code       Order ID  \n",
       "8575              19701  1-343-01528-6  "
      ]
     },
     "execution_count": 9,
     "metadata": {},
     "output_type": "execute_result"
    }
   ],
   "source": [
    "df.sample()"
   ]
  },
  {
   "cell_type": "code",
   "execution_count": 11,
   "id": "bbe4afb5-27de-4fb7-a175-d5acb33ae7b3",
   "metadata": {
    "scrolled": true
   },
   "outputs": [
    {
     "data": {
      "text/plain": [
       "(10000, 13)"
      ]
     },
     "execution_count": 11,
     "metadata": {},
     "output_type": "execute_result"
    }
   ],
   "source": [
    "df.shape"
   ]
  },
  {
   "cell_type": "code",
   "execution_count": 13,
   "id": "ee075e98-44f7-4fef-8c4e-3029ccdc6f2c",
   "metadata": {
    "scrolled": true
   },
   "outputs": [
    {
     "data": {
      "text/plain": [
       "Product               10000\n",
       "Company               10000\n",
       "Category              10000\n",
       "Units Sold            10000\n",
       "Revenue               10000\n",
       "Cost of Goods Sold    10000\n",
       "Profit                10000\n",
       "Purchase Date         10000\n",
       "Customer Name         10000\n",
       "Customer State        10000\n",
       "Customer City         10000\n",
       "Customer Zip Code     10000\n",
       "Order ID              10000\n",
       "dtype: int64"
      ]
     },
     "execution_count": 13,
     "metadata": {},
     "output_type": "execute_result"
    }
   ],
   "source": [
    "df.count()"
   ]
  },
  {
   "cell_type": "code",
   "execution_count": 15,
   "id": "3d5bf34c-2167-4f2f-9151-cb40c560dd41",
   "metadata": {},
   "outputs": [
    {
     "data": {
      "text/plain": [
       "Product               0\n",
       "Company               0\n",
       "Category              0\n",
       "Units Sold            0\n",
       "Revenue               0\n",
       "Cost of Goods Sold    0\n",
       "Profit                0\n",
       "Purchase Date         0\n",
       "Customer Name         0\n",
       "Customer State        0\n",
       "Customer City         0\n",
       "Customer Zip Code     0\n",
       "Order ID              0\n",
       "dtype: int64"
      ]
     },
     "execution_count": 15,
     "metadata": {},
     "output_type": "execute_result"
    }
   ],
   "source": [
    "df.isna().sum()"
   ]
  },
  {
   "cell_type": "code",
   "execution_count": 17,
   "id": "4668c824-3948-448c-aa77-187892d4d995",
   "metadata": {},
   "outputs": [
    {
     "data": {
      "text/plain": [
       "Product                 0\n",
       "Company                 0\n",
       "Category                0\n",
       "Units Sold            0.0\n",
       "Revenue               0.0\n",
       "Cost of Goods Sold    0.0\n",
       "Profit                0.0\n",
       "Purchase Date           0\n",
       "Customer Name           0\n",
       "Customer State          0\n",
       "Customer City           0\n",
       "Customer Zip Code     0.0\n",
       "Order ID                0\n",
       "dtype: object"
      ]
     },
     "execution_count": 17,
     "metadata": {},
     "output_type": "execute_result"
    }
   ],
   "source": [
    "df[df == 0].sum()"
   ]
  },
  {
   "cell_type": "code",
   "execution_count": 19,
   "id": "972dd2f0-410f-4129-858a-777b8bff09f5",
   "metadata": {},
   "outputs": [
    {
     "data": {
      "text/plain": [
       "Product               0.0\n",
       "Company               0.0\n",
       "Category              0.0\n",
       "Units Sold            0.0\n",
       "Revenue               0.0\n",
       "Cost of Goods Sold    0.0\n",
       "Profit                0.0\n",
       "Purchase Date         0.0\n",
       "Customer Name         0.0\n",
       "Customer State        0.0\n",
       "Customer City         0.0\n",
       "Customer Zip Code     0.0\n",
       "Order ID              0.0\n",
       "dtype: float64"
      ]
     },
     "execution_count": 19,
     "metadata": {},
     "output_type": "execute_result"
    }
   ],
   "source": [
    "df[df.duplicated].sum()"
   ]
  },
  {
   "cell_type": "code",
   "execution_count": 21,
   "id": "f98bbf6d-0c2b-4f87-8826-eca185a15321",
   "metadata": {},
   "outputs": [
    {
     "data": {
      "text/plain": [
       "Product                  10\n",
       "Company                   3\n",
       "Category                  4\n",
       "Units Sold              901\n",
       "Revenue                6042\n",
       "Cost of Goods Sold     5495\n",
       "Profit                 6956\n",
       "Purchase Date          1306\n",
       "Customer Name          9335\n",
       "Customer State           50\n",
       "Customer City          7769\n",
       "Customer Zip Code      8789\n",
       "Order ID              10000\n",
       "dtype: int64"
      ]
     },
     "execution_count": 21,
     "metadata": {},
     "output_type": "execute_result"
    }
   ],
   "source": [
    "df.nunique()"
   ]
  },
  {
   "cell_type": "code",
   "execution_count": 23,
   "id": "33966324-e9ba-41ab-89ef-77379d82f20b",
   "metadata": {},
   "outputs": [
    {
     "data": {
      "text/html": [
       "<div>\n",
       "<style scoped>\n",
       "    .dataframe tbody tr th:only-of-type {\n",
       "        vertical-align: middle;\n",
       "    }\n",
       "\n",
       "    .dataframe tbody tr th {\n",
       "        vertical-align: top;\n",
       "    }\n",
       "\n",
       "    .dataframe thead th {\n",
       "        text-align: right;\n",
       "    }\n",
       "</style>\n",
       "<table border=\"1\" class=\"dataframe\">\n",
       "  <thead>\n",
       "    <tr style=\"text-align: right;\">\n",
       "      <th></th>\n",
       "      <th>Units Sold</th>\n",
       "      <th>Revenue</th>\n",
       "      <th>Cost of Goods Sold</th>\n",
       "      <th>Profit</th>\n",
       "      <th>Customer Zip Code</th>\n",
       "    </tr>\n",
       "  </thead>\n",
       "  <tbody>\n",
       "    <tr>\n",
       "      <th>count</th>\n",
       "      <td>10000.000000</td>\n",
       "      <td>10000.000000</td>\n",
       "      <td>10000.000000</td>\n",
       "      <td>10000.000000</td>\n",
       "      <td>10000.000000</td>\n",
       "    </tr>\n",
       "    <tr>\n",
       "      <th>mean</th>\n",
       "      <td>547.162400</td>\n",
       "      <td>5507.824100</td>\n",
       "      <td>4244.766500</td>\n",
       "      <td>1263.057600</td>\n",
       "      <td>50240.881500</td>\n",
       "    </tr>\n",
       "    <tr>\n",
       "      <th>std</th>\n",
       "      <td>260.392451</td>\n",
       "      <td>2591.286638</td>\n",
       "      <td>2158.872391</td>\n",
       "      <td>3344.636747</td>\n",
       "      <td>30165.679293</td>\n",
       "    </tr>\n",
       "    <tr>\n",
       "      <th>min</th>\n",
       "      <td>100.000000</td>\n",
       "      <td>1000.000000</td>\n",
       "      <td>500.000000</td>\n",
       "      <td>-6961.000000</td>\n",
       "      <td>1008.000000</td>\n",
       "    </tr>\n",
       "    <tr>\n",
       "      <th>25%</th>\n",
       "      <td>323.000000</td>\n",
       "      <td>3283.250000</td>\n",
       "      <td>2380.500000</td>\n",
       "      <td>-1177.250000</td>\n",
       "      <td>24303.250000</td>\n",
       "    </tr>\n",
       "    <tr>\n",
       "      <th>50%</th>\n",
       "      <td>541.000000</td>\n",
       "      <td>5517.000000</td>\n",
       "      <td>4268.000000</td>\n",
       "      <td>1243.500000</td>\n",
       "      <td>50993.000000</td>\n",
       "    </tr>\n",
       "    <tr>\n",
       "      <th>75%</th>\n",
       "      <td>772.250000</td>\n",
       "      <td>7757.500000</td>\n",
       "      <td>6095.000000</td>\n",
       "      <td>3659.000000</td>\n",
       "      <td>77537.750000</td>\n",
       "    </tr>\n",
       "    <tr>\n",
       "      <th>max</th>\n",
       "      <td>1000.000000</td>\n",
       "      <td>9999.000000</td>\n",
       "      <td>8000.000000</td>\n",
       "      <td>9461.000000</td>\n",
       "      <td>99950.000000</td>\n",
       "    </tr>\n",
       "  </tbody>\n",
       "</table>\n",
       "</div>"
      ],
      "text/plain": [
       "         Units Sold       Revenue  Cost of Goods Sold        Profit  \\\n",
       "count  10000.000000  10000.000000        10000.000000  10000.000000   \n",
       "mean     547.162400   5507.824100         4244.766500   1263.057600   \n",
       "std      260.392451   2591.286638         2158.872391   3344.636747   \n",
       "min      100.000000   1000.000000          500.000000  -6961.000000   \n",
       "25%      323.000000   3283.250000         2380.500000  -1177.250000   \n",
       "50%      541.000000   5517.000000         4268.000000   1243.500000   \n",
       "75%      772.250000   7757.500000         6095.000000   3659.000000   \n",
       "max     1000.000000   9999.000000         8000.000000   9461.000000   \n",
       "\n",
       "       Customer Zip Code  \n",
       "count       10000.000000  \n",
       "mean        50240.881500  \n",
       "std         30165.679293  \n",
       "min          1008.000000  \n",
       "25%         24303.250000  \n",
       "50%         50993.000000  \n",
       "75%         77537.750000  \n",
       "max         99950.000000  "
      ]
     },
     "execution_count": 23,
     "metadata": {},
     "output_type": "execute_result"
    }
   ],
   "source": [
    "df.describe()"
   ]
  },
  {
   "cell_type": "code",
   "execution_count": 25,
   "id": "4e0c823a-8246-4587-ae73-3521555aff11",
   "metadata": {},
   "outputs": [
    {
     "name": "stdout",
     "output_type": "stream",
     "text": [
      "<class 'pandas.core.frame.DataFrame'>\n",
      "RangeIndex: 10000 entries, 0 to 9999\n",
      "Data columns (total 13 columns):\n",
      " #   Column              Non-Null Count  Dtype \n",
      "---  ------              --------------  ----- \n",
      " 0   Product             10000 non-null  object\n",
      " 1   Company             10000 non-null  object\n",
      " 2   Category            10000 non-null  object\n",
      " 3   Units Sold          10000 non-null  int64 \n",
      " 4   Revenue             10000 non-null  int64 \n",
      " 5   Cost of Goods Sold  10000 non-null  int64 \n",
      " 6   Profit              10000 non-null  int64 \n",
      " 7   Purchase Date       10000 non-null  object\n",
      " 8   Customer Name       10000 non-null  object\n",
      " 9   Customer State      10000 non-null  object\n",
      " 10  Customer City       10000 non-null  object\n",
      " 11  Customer Zip Code   10000 non-null  int64 \n",
      " 12  Order ID            10000 non-null  object\n",
      "dtypes: int64(5), object(8)\n",
      "memory usage: 1015.8+ KB\n"
     ]
    }
   ],
   "source": [
    "df.info()"
   ]
  },
  {
   "cell_type": "markdown",
   "id": "4a4aa06b-7cc8-46c6-bd53-a469b99984d9",
   "metadata": {},
   "source": [
    "<H5>"
   ]
  },
  {
   "cell_type": "markdown",
   "id": "3263fe11-1868-43b8-8f6f-d32ad0c8eeb9",
   "metadata": {},
   "source": [
    "# Exploratory Data analysis"
   ]
  },
  {
   "cell_type": "markdown",
   "id": "d7801809-e492-4e6b-97b6-83fc7adcb6a7",
   "metadata": {},
   "source": [
    "<H4> Below are the questions i am going to cover based on the given data.\n",
    "\n",
    "\n",
    "\n",
    "<H5> 1 What is the sales trend by each month ?\n",
    "\n",
    "<H5> 2 What is the sales change by each month ?\n",
    "\n",
    "<H5> 3 What are the top ten products by sales ?\n",
    "\n",
    "<H5> 4 What are the top ten products by quantity ?\n",
    "\n",
    "<H5> 5 What are the most prefered products ?\n",
    "\n",
    "\n"
   ]
  },
  {
   "cell_type": "markdown",
   "id": "4f88d231-2fb4-4ab4-a085-b17b5b7bd6f0",
   "metadata": {},
   "source": [
    " <H3> Net Sales trend analysis by each month"
   ]
  },
  {
   "cell_type": "code",
   "execution_count": 31,
   "id": "bc439dd8-5c98-49c8-a1af-1c5623f4d73d",
   "metadata": {},
   "outputs": [
    {
     "data": {
      "text/plain": [
       "'2020-01-01'"
      ]
     },
     "execution_count": 31,
     "metadata": {},
     "output_type": "execute_result"
    }
   ],
   "source": [
    "df['Purchase Date'].min()"
   ]
  },
  {
   "cell_type": "code",
   "execution_count": 33,
   "id": "00c67e45-6fc3-42db-96bc-35517d5c367f",
   "metadata": {},
   "outputs": [
    {
     "data": {
      "text/plain": [
       "'2023-07-29'"
      ]
     },
     "execution_count": 33,
     "metadata": {},
     "output_type": "execute_result"
    }
   ],
   "source": [
    "df['Purchase Date'].max()"
   ]
  },
  {
   "cell_type": "code",
   "execution_count": 35,
   "id": "08b61069-32f6-4e63-a309-07ef22ab5018",
   "metadata": {},
   "outputs": [],
   "source": [
    "# getting the Year Month from the data set\n",
    "df['Year_Month'] = pd.to_datetime(df['Purchase Date']).dt.strftime('%Y-%m')"
   ]
  },
  {
   "cell_type": "code",
   "execution_count": 37,
   "id": "3680f6f7-21d3-4725-b2e5-9531b8e366b0",
   "metadata": {},
   "outputs": [],
   "source": [
    "# grouping the data by the year month\n",
    "df_trend = df.groupby('Year_Month')['Revenue'].sum().reset_index()"
   ]
  },
  {
   "cell_type": "code",
   "execution_count": 39,
   "id": "a0ec1eec-1249-4a47-896a-ddad22e1158e",
   "metadata": {},
   "outputs": [
    {
     "data": {
      "text/html": [
       "<div>\n",
       "<style scoped>\n",
       "    .dataframe tbody tr th:only-of-type {\n",
       "        vertical-align: middle;\n",
       "    }\n",
       "\n",
       "    .dataframe tbody tr th {\n",
       "        vertical-align: top;\n",
       "    }\n",
       "\n",
       "    .dataframe thead th {\n",
       "        text-align: right;\n",
       "    }\n",
       "</style>\n",
       "<table border=\"1\" class=\"dataframe\">\n",
       "  <thead>\n",
       "    <tr style=\"text-align: right;\">\n",
       "      <th></th>\n",
       "      <th>Year_Month</th>\n",
       "      <th>Revenue</th>\n",
       "    </tr>\n",
       "  </thead>\n",
       "  <tbody>\n",
       "    <tr>\n",
       "      <th>0</th>\n",
       "      <td>2020-01</td>\n",
       "      <td>1411867</td>\n",
       "    </tr>\n",
       "    <tr>\n",
       "      <th>1</th>\n",
       "      <td>2020-02</td>\n",
       "      <td>1323070</td>\n",
       "    </tr>\n",
       "    <tr>\n",
       "      <th>2</th>\n",
       "      <td>2020-03</td>\n",
       "      <td>1348547</td>\n",
       "    </tr>\n",
       "    <tr>\n",
       "      <th>3</th>\n",
       "      <td>2020-04</td>\n",
       "      <td>1120703</td>\n",
       "    </tr>\n",
       "    <tr>\n",
       "      <th>4</th>\n",
       "      <td>2020-05</td>\n",
       "      <td>1208480</td>\n",
       "    </tr>\n",
       "  </tbody>\n",
       "</table>\n",
       "</div>"
      ],
      "text/plain": [
       "  Year_Month  Revenue\n",
       "0    2020-01  1411867\n",
       "1    2020-02  1323070\n",
       "2    2020-03  1348547\n",
       "3    2020-04  1120703\n",
       "4    2020-05  1208480"
      ]
     },
     "execution_count": 39,
     "metadata": {},
     "output_type": "execute_result"
    }
   ],
   "source": [
    "# sample of the new data frame\n",
    "df_trend.head(5)"
   ]
  },
  {
   "cell_type": "code",
   "execution_count": 41,
   "id": "75422855-0496-4f4a-b4c7-6776c9e11a6e",
   "metadata": {},
   "outputs": [
    {
     "name": "stderr",
     "output_type": "stream",
     "text": [
      "C:\\Users\\FarranceMM\\AppData\\Local\\Temp\\ipykernel_52124\\3813622713.py:12: UserWarning: FixedFormatter should only be used together with FixedLocator\n",
      "  line.set_yticklabels([format(y) for y in line.get_yticks()])\n",
      "C:\\Users\\FarranceMM\\AppData\\Local\\Temp\\ipykernel_52124\\3813622713.py:13: UserWarning: FixedFormatter should only be used together with FixedLocator\n",
      "  line.set_xticklabels(line.get_xticklabels(), rotation = 90, ha = 'center')\n"
     ]
    },
    {
     "data": {
      "image/png": "[encoded data removed]",
      "text/plain": [
       "<Figure size 1400x800 with 1 Axes>"
      ]
     },
     "metadata": {},
     "output_type": "display_data"
    }
   ],
   "source": [
    "# showing the Net Sales trend of all the types of drinks between 2020 and 2023\n",
    "sns.set(rc = {'figure.figsize':(14, 8)})\n",
    "line = sns.lineplot(x = 'Year_Month', y = 'Revenue', data = df_trend, linestyle = 'solid', linewidth = 2, color = 'green')\n",
    "max_value = round(df_trend['Revenue'].max(), 1)\n",
    "min_value = round(df_trend['Revenue'].min(), 1)\n",
    "plt.scatter(df_trend['Year_Month'][df_trend['Revenue'].idxmax()], max_value, color = 'red', s = 70, zorder = 3)\n",
    "plt.scatter(df_trend['Year_Month'][df_trend['Revenue'].idxmin()], min_value, color = 'red', s = 70, zorder = 3)\n",
    "plt.annotate(str(max_value), (df_trend['Year_Month'][df_trend['Revenue'].idxmax()], max_value),\n",
    "            textcoords = 'offset points', xytext = (30, -4), ha = 'center') \n",
    "plt.annotate(str(min_value), (df_trend['Year_Month'][df_trend['Revenue'].idxmin()], min_value),\n",
    "             textcoords = 'offset points', xytext = (30, -4), ha = 'center')\n",
    "line.set_yticklabels([format(y) for y in line.get_yticks()])\n",
    "line.set_xticklabels(line.get_xticklabels(), rotation = 90, ha = 'center')\n",
    "plt.title('Revenue Trend of Different Types of Drinks', fontsize = 20)\n",
    "plt.xlabel('Revenue Between 2020 and 2023', fontsize = 14)\n",
    "plt.ylabel('Revenue Generated', fontsize = 14)\n",
    "line.legend(title = 'Category of Drinks', labels = ['Revenue Generated'], loc = 'upper right', fontsize = 10, \n",
    "            edgecolor = 'green', facecolor = 'white')\n",
    "plt.show()"
   ]
  },
  {
   "cell_type": "markdown",
   "id": "4679db75-1283-4ea9-bf44-31d884617a06",
   "metadata": {},
   "source": [
    "<H4>  This graph is about the sales trend of different products of drinks, which showcases sales that have been made between 2020 and 2023. in 2020-06 \n",
    "there was a massive increase in sales until 2020-08 which is the highest period where sales have been generated. in 2022-10 there was a massive drop in sales."
   ]
  },
  {
   "cell_type": "markdown",
   "id": "f4eb799a-8b47-430b-964b-13b052039d7e",
   "metadata": {},
   "source": [
    "<H4> From the conclusion that i have drawn, the massive increase in sales shows that there was a succesfull increase in prices of products and the cost of sales were growing at a slower pace, and the massive decrease in sales shows that the demand of the products was weak and the companies had to discount its products in order to move them"
   ]
  },
  {
   "cell_type": "markdown",
   "id": "2a051bd4-1221-4ab4-b490-1d1532d67332",
   "metadata": {},
   "source": [
    "<H3> The sales change by each month"
   ]
  },
  {
   "cell_type": "code",
   "execution_count": 46,
   "id": "0a7ac0b4-91c4-404f-8b6f-59fb23b8e3aa",
   "metadata": {},
   "outputs": [],
   "source": [
    "# getting the year month from the data set\n",
    "df['year month'] = pd.to_datetime(df['Purchase Date']).dt.strftime('%Y-%m')"
   ]
  },
  {
   "cell_type": "code",
   "execution_count": 48,
   "id": "4dc8a01e-7885-4eb6-ad6f-439d72f954b0",
   "metadata": {},
   "outputs": [],
   "source": [
    "# grouping the data by the year month\n",
    "df_salesChange = df.groupby('year month')['Revenue'].sum().reset_index()"
   ]
  },
  {
   "cell_type": "code",
   "execution_count": 50,
   "id": "2294f430-eddb-413c-9d0d-6e2700c94b2a",
   "metadata": {},
   "outputs": [],
   "source": [
    "# computing the sales change by each month\n",
    "df_salesChange['Sales Percent Change'] = round(df_salesChange['Revenue'].pct_change(periods = 1) * 100, 1)"
   ]
  },
  {
   "cell_type": "code",
   "execution_count": 52,
   "id": "3e1eca93-5604-4069-9c54-de424c37b101",
   "metadata": {},
   "outputs": [
    {
     "data": {
      "text/html": [
       "<div>\n",
       "<style scoped>\n",
       "    .dataframe tbody tr th:only-of-type {\n",
       "        vertical-align: middle;\n",
       "    }\n",
       "\n",
       "    .dataframe tbody tr th {\n",
       "        vertical-align: top;\n",
       "    }\n",
       "\n",
       "    .dataframe thead th {\n",
       "        text-align: right;\n",
       "    }\n",
       "</style>\n",
       "<table border=\"1\" class=\"dataframe\">\n",
       "  <thead>\n",
       "    <tr style=\"text-align: right;\">\n",
       "      <th></th>\n",
       "      <th>year month</th>\n",
       "      <th>Revenue</th>\n",
       "      <th>Sales Percent Change</th>\n",
       "    </tr>\n",
       "  </thead>\n",
       "  <tbody>\n",
       "    <tr>\n",
       "      <th>0</th>\n",
       "      <td>2020-01</td>\n",
       "      <td>1411867</td>\n",
       "      <td>NaN</td>\n",
       "    </tr>\n",
       "    <tr>\n",
       "      <th>1</th>\n",
       "      <td>2020-02</td>\n",
       "      <td>1323070</td>\n",
       "      <td>-6.3</td>\n",
       "    </tr>\n",
       "    <tr>\n",
       "      <th>2</th>\n",
       "      <td>2020-03</td>\n",
       "      <td>1348547</td>\n",
       "      <td>1.9</td>\n",
       "    </tr>\n",
       "    <tr>\n",
       "      <th>3</th>\n",
       "      <td>2020-04</td>\n",
       "      <td>1120703</td>\n",
       "      <td>-16.9</td>\n",
       "    </tr>\n",
       "    <tr>\n",
       "      <th>4</th>\n",
       "      <td>2020-05</td>\n",
       "      <td>1208480</td>\n",
       "      <td>7.8</td>\n",
       "    </tr>\n",
       "    <tr>\n",
       "      <th>5</th>\n",
       "      <td>2020-06</td>\n",
       "      <td>1117830</td>\n",
       "      <td>-7.5</td>\n",
       "    </tr>\n",
       "    <tr>\n",
       "      <th>6</th>\n",
       "      <td>2020-07</td>\n",
       "      <td>1375481</td>\n",
       "      <td>23.0</td>\n",
       "    </tr>\n",
       "    <tr>\n",
       "      <th>7</th>\n",
       "      <td>2020-08</td>\n",
       "      <td>1516505</td>\n",
       "      <td>10.3</td>\n",
       "    </tr>\n",
       "    <tr>\n",
       "      <th>8</th>\n",
       "      <td>2020-09</td>\n",
       "      <td>1303498</td>\n",
       "      <td>-14.0</td>\n",
       "    </tr>\n",
       "    <tr>\n",
       "      <th>9</th>\n",
       "      <td>2020-10</td>\n",
       "      <td>1230252</td>\n",
       "      <td>-5.6</td>\n",
       "    </tr>\n",
       "    <tr>\n",
       "      <th>10</th>\n",
       "      <td>2020-11</td>\n",
       "      <td>1166712</td>\n",
       "      <td>-5.2</td>\n",
       "    </tr>\n",
       "    <tr>\n",
       "      <th>11</th>\n",
       "      <td>2020-12</td>\n",
       "      <td>1350636</td>\n",
       "      <td>15.8</td>\n",
       "    </tr>\n",
       "    <tr>\n",
       "      <th>12</th>\n",
       "      <td>2021-01</td>\n",
       "      <td>1375954</td>\n",
       "      <td>1.9</td>\n",
       "    </tr>\n",
       "    <tr>\n",
       "      <th>13</th>\n",
       "      <td>2021-02</td>\n",
       "      <td>1112371</td>\n",
       "      <td>-19.2</td>\n",
       "    </tr>\n",
       "    <tr>\n",
       "      <th>14</th>\n",
       "      <td>2021-03</td>\n",
       "      <td>1247700</td>\n",
       "      <td>12.2</td>\n",
       "    </tr>\n",
       "    <tr>\n",
       "      <th>15</th>\n",
       "      <td>2021-04</td>\n",
       "      <td>1394951</td>\n",
       "      <td>11.8</td>\n",
       "    </tr>\n",
       "    <tr>\n",
       "      <th>16</th>\n",
       "      <td>2021-05</td>\n",
       "      <td>1288870</td>\n",
       "      <td>-7.6</td>\n",
       "    </tr>\n",
       "    <tr>\n",
       "      <th>17</th>\n",
       "      <td>2021-06</td>\n",
       "      <td>1413979</td>\n",
       "      <td>9.7</td>\n",
       "    </tr>\n",
       "    <tr>\n",
       "      <th>18</th>\n",
       "      <td>2021-07</td>\n",
       "      <td>1197919</td>\n",
       "      <td>-15.3</td>\n",
       "    </tr>\n",
       "    <tr>\n",
       "      <th>19</th>\n",
       "      <td>2021-08</td>\n",
       "      <td>1423163</td>\n",
       "      <td>18.8</td>\n",
       "    </tr>\n",
       "    <tr>\n",
       "      <th>20</th>\n",
       "      <td>2021-09</td>\n",
       "      <td>1219361</td>\n",
       "      <td>-14.3</td>\n",
       "    </tr>\n",
       "    <tr>\n",
       "      <th>21</th>\n",
       "      <td>2021-10</td>\n",
       "      <td>1408502</td>\n",
       "      <td>15.5</td>\n",
       "    </tr>\n",
       "    <tr>\n",
       "      <th>22</th>\n",
       "      <td>2021-11</td>\n",
       "      <td>1204738</td>\n",
       "      <td>-14.5</td>\n",
       "    </tr>\n",
       "    <tr>\n",
       "      <th>23</th>\n",
       "      <td>2021-12</td>\n",
       "      <td>1168938</td>\n",
       "      <td>-3.0</td>\n",
       "    </tr>\n",
       "    <tr>\n",
       "      <th>24</th>\n",
       "      <td>2022-01</td>\n",
       "      <td>1198171</td>\n",
       "      <td>2.5</td>\n",
       "    </tr>\n",
       "    <tr>\n",
       "      <th>25</th>\n",
       "      <td>2022-02</td>\n",
       "      <td>1207509</td>\n",
       "      <td>0.8</td>\n",
       "    </tr>\n",
       "    <tr>\n",
       "      <th>26</th>\n",
       "      <td>2022-03</td>\n",
       "      <td>1354611</td>\n",
       "      <td>12.2</td>\n",
       "    </tr>\n",
       "    <tr>\n",
       "      <th>27</th>\n",
       "      <td>2022-04</td>\n",
       "      <td>1333181</td>\n",
       "      <td>-1.6</td>\n",
       "    </tr>\n",
       "    <tr>\n",
       "      <th>28</th>\n",
       "      <td>2022-05</td>\n",
       "      <td>1349413</td>\n",
       "      <td>1.2</td>\n",
       "    </tr>\n",
       "    <tr>\n",
       "      <th>29</th>\n",
       "      <td>2022-06</td>\n",
       "      <td>1258239</td>\n",
       "      <td>-6.8</td>\n",
       "    </tr>\n",
       "    <tr>\n",
       "      <th>30</th>\n",
       "      <td>2022-07</td>\n",
       "      <td>1211048</td>\n",
       "      <td>-3.8</td>\n",
       "    </tr>\n",
       "    <tr>\n",
       "      <th>31</th>\n",
       "      <td>2022-08</td>\n",
       "      <td>1285039</td>\n",
       "      <td>6.1</td>\n",
       "    </tr>\n",
       "    <tr>\n",
       "      <th>32</th>\n",
       "      <td>2022-09</td>\n",
       "      <td>1310485</td>\n",
       "      <td>2.0</td>\n",
       "    </tr>\n",
       "    <tr>\n",
       "      <th>33</th>\n",
       "      <td>2022-10</td>\n",
       "      <td>1087102</td>\n",
       "      <td>-17.0</td>\n",
       "    </tr>\n",
       "    <tr>\n",
       "      <th>34</th>\n",
       "      <td>2022-11</td>\n",
       "      <td>1217276</td>\n",
       "      <td>12.0</td>\n",
       "    </tr>\n",
       "    <tr>\n",
       "      <th>35</th>\n",
       "      <td>2022-12</td>\n",
       "      <td>1328345</td>\n",
       "      <td>9.1</td>\n",
       "    </tr>\n",
       "    <tr>\n",
       "      <th>36</th>\n",
       "      <td>2023-01</td>\n",
       "      <td>1416539</td>\n",
       "      <td>6.6</td>\n",
       "    </tr>\n",
       "    <tr>\n",
       "      <th>37</th>\n",
       "      <td>2023-02</td>\n",
       "      <td>1150111</td>\n",
       "      <td>-18.8</td>\n",
       "    </tr>\n",
       "    <tr>\n",
       "      <th>38</th>\n",
       "      <td>2023-03</td>\n",
       "      <td>1212167</td>\n",
       "      <td>5.4</td>\n",
       "    </tr>\n",
       "    <tr>\n",
       "      <th>39</th>\n",
       "      <td>2023-04</td>\n",
       "      <td>1117027</td>\n",
       "      <td>-7.8</td>\n",
       "    </tr>\n",
       "    <tr>\n",
       "      <th>40</th>\n",
       "      <td>2023-05</td>\n",
       "      <td>1427078</td>\n",
       "      <td>27.8</td>\n",
       "    </tr>\n",
       "    <tr>\n",
       "      <th>41</th>\n",
       "      <td>2023-06</td>\n",
       "      <td>1373907</td>\n",
       "      <td>-3.7</td>\n",
       "    </tr>\n",
       "    <tr>\n",
       "      <th>42</th>\n",
       "      <td>2023-07</td>\n",
       "      <td>1310966</td>\n",
       "      <td>-4.6</td>\n",
       "    </tr>\n",
       "  </tbody>\n",
       "</table>\n",
       "</div>"
      ],
      "text/plain": [
       "   year month  Revenue  Sales Percent Change\n",
       "0     2020-01  1411867                   NaN\n",
       "1     2020-02  1323070                  -6.3\n",
       "2     2020-03  1348547                   1.9\n",
       "3     2020-04  1120703                 -16.9\n",
       "4     2020-05  1208480                   7.8\n",
       "5     2020-06  1117830                  -7.5\n",
       "6     2020-07  1375481                  23.0\n",
       "7     2020-08  1516505                  10.3\n",
       "8     2020-09  1303498                 -14.0\n",
       "9     2020-10  1230252                  -5.6\n",
       "10    2020-11  1166712                  -5.2\n",
       "11    2020-12  1350636                  15.8\n",
       "12    2021-01  1375954                   1.9\n",
       "13    2021-02  1112371                 -19.2\n",
       "14    2021-03  1247700                  12.2\n",
       "15    2021-04  1394951                  11.8\n",
       "16    2021-05  1288870                  -7.6\n",
       "17    2021-06  1413979                   9.7\n",
       "18    2021-07  1197919                 -15.3\n",
       "19    2021-08  1423163                  18.8\n",
       "20    2021-09  1219361                 -14.3\n",
       "21    2021-10  1408502                  15.5\n",
       "22    2021-11  1204738                 -14.5\n",
       "23    2021-12  1168938                  -3.0\n",
       "24    2022-01  1198171                   2.5\n",
       "25    2022-02  1207509                   0.8\n",
       "26    2022-03  1354611                  12.2\n",
       "27    2022-04  1333181                  -1.6\n",
       "28    2022-05  1349413                   1.2\n",
       "29    2022-06  1258239                  -6.8\n",
       "30    2022-07  1211048                  -3.8\n",
       "31    2022-08  1285039                   6.1\n",
       "32    2022-09  1310485                   2.0\n",
       "33    2022-10  1087102                 -17.0\n",
       "34    2022-11  1217276                  12.0\n",
       "35    2022-12  1328345                   9.1\n",
       "36    2023-01  1416539                   6.6\n",
       "37    2023-02  1150111                 -18.8\n",
       "38    2023-03  1212167                   5.4\n",
       "39    2023-04  1117027                  -7.8\n",
       "40    2023-05  1427078                  27.8\n",
       "41    2023-06  1373907                  -3.7\n",
       "42    2023-07  1310966                  -4.6"
      ]
     },
     "execution_count": 52,
     "metadata": {},
     "output_type": "execute_result"
    }
   ],
   "source": [
    "df_salesChange"
   ]
  },
  {
   "cell_type": "markdown",
   "id": "9b75daa9-ac43-4779-92ea-b8a8fc8cbae2",
   "metadata": {},
   "source": [
    "<H4> above is a dataset that display a sales percent change by each month from 2020 to 2023.\n",
    "\n",
    "\n",
    "<H4> From the conclusion that i have drawn from the dataset above, in 2021-01 there was a massive drop of -9.2 in sales which also mean a decrease in revenue generated by the companies in this period, having a low sales change may help companies to identify areas for improvement. In 2023-05 there was a massive increase of 27.8 in sales which also means that the revenue performance was increasing.\n",
    "\n"
   ]
  },
  {
   "cell_type": "markdown",
   "id": "12539ce8-b0ee-4a7f-b180-7648365eeadf",
   "metadata": {},
   "source": [
    "<H3> The top ten products by Sales"
   ]
  },
  {
   "cell_type": "code",
   "execution_count": 56,
   "id": "69b572be-28ec-43a1-9486-d353d0013d87",
   "metadata": {},
   "outputs": [],
   "source": [
    "# grouping the data by products\n",
    "df_products = pd.DataFrame(df.groupby('Product')['Revenue'].sum())"
   ]
  },
  {
   "cell_type": "code",
   "execution_count": 58,
   "id": "e1e91370-7603-4489-90bc-d88ce0a45796",
   "metadata": {},
   "outputs": [],
   "source": [
    "df_sortedProducts = df_products.sort_values('Revenue', ascending = False)"
   ]
  },
  {
   "cell_type": "code",
   "execution_count": 60,
   "id": "6fb0bfa7-78c4-49d9-aef5-96f0509deff8",
   "metadata": {},
   "outputs": [
    {
     "data": {
      "text/html": [
       "<div>\n",
       "<style scoped>\n",
       "    .dataframe tbody tr th:only-of-type {\n",
       "        vertical-align: middle;\n",
       "    }\n",
       "\n",
       "    .dataframe tbody tr th {\n",
       "        vertical-align: top;\n",
       "    }\n",
       "\n",
       "    .dataframe thead th {\n",
       "        text-align: right;\n",
       "    }\n",
       "</style>\n",
       "<table border=\"1\" class=\"dataframe\">\n",
       "  <thead>\n",
       "    <tr style=\"text-align: right;\">\n",
       "      <th></th>\n",
       "      <th>Revenue</th>\n",
       "    </tr>\n",
       "    <tr>\n",
       "      <th>Product</th>\n",
       "      <th></th>\n",
       "    </tr>\n",
       "  </thead>\n",
       "  <tbody>\n",
       "    <tr>\n",
       "      <th>Herbal Tea</th>\n",
       "      <td>5765332</td>\n",
       "    </tr>\n",
       "    <tr>\n",
       "      <th>Wine</th>\n",
       "      <td>5691052</td>\n",
       "    </tr>\n",
       "    <tr>\n",
       "      <th>Vodka</th>\n",
       "      <td>5625536</td>\n",
       "    </tr>\n",
       "    <tr>\n",
       "      <th>Green Tea</th>\n",
       "      <td>5561211</td>\n",
       "    </tr>\n",
       "    <tr>\n",
       "      <th>Coffee</th>\n",
       "      <td>5557975</td>\n",
       "    </tr>\n",
       "    <tr>\n",
       "      <th>Cola</th>\n",
       "      <td>5511882</td>\n",
       "    </tr>\n",
       "    <tr>\n",
       "      <th>Beer</th>\n",
       "      <td>5502107</td>\n",
       "    </tr>\n",
       "    <tr>\n",
       "      <th>Energy Drink</th>\n",
       "      <td>5371177</td>\n",
       "    </tr>\n",
       "    <tr>\n",
       "      <th>Lemonade</th>\n",
       "      <td>5339817</td>\n",
       "    </tr>\n",
       "    <tr>\n",
       "      <th>Black Tea</th>\n",
       "      <td>5152152</td>\n",
       "    </tr>\n",
       "  </tbody>\n",
       "</table>\n",
       "</div>"
      ],
      "text/plain": [
       "              Revenue\n",
       "Product              \n",
       "Herbal Tea    5765332\n",
       "Wine          5691052\n",
       "Vodka         5625536\n",
       "Green Tea     5561211\n",
       "Coffee        5557975\n",
       "Cola          5511882\n",
       "Beer          5502107\n",
       "Energy Drink  5371177\n",
       "Lemonade      5339817\n",
       "Black Tea     5152152"
      ]
     },
     "execution_count": 60,
     "metadata": {},
     "output_type": "execute_result"
    }
   ],
   "source": [
    "df_sortedProducts[:10]"
   ]
  },
  {
   "cell_type": "markdown",
   "id": "26d4dfc7-7c65-4681-a5b0-2dc9295e4c55",
   "metadata": {},
   "source": [
    "<H4> my conclusion from the dataset, theres an increase demand for low-alcohol beverages because of the growing health consciousness and people are transitioning towards non-alcohol and healthy drinks.\n",
    "\n"
   ]
  },
  {
   "cell_type": "markdown",
   "id": "74cfc88b-ee8e-4594-b833-d3e2ef66c40f",
   "metadata": {},
   "source": [
    "<H3> The top ten products by quantity"
   ]
  },
  {
   "cell_type": "code",
   "execution_count": 64,
   "id": "02efb980-0f1c-43ca-88f2-9d9986c013ad",
   "metadata": {},
   "outputs": [],
   "source": [
    "# we are grouping the data by products\n",
    "df_quantity = pd.DataFrame(df.groupby('Product')['Units Sold'].sum())"
   ]
  },
  {
   "cell_type": "code",
   "execution_count": 66,
   "id": "c6757a0a-0810-4b83-9312-d892ea4293db",
   "metadata": {},
   "outputs": [],
   "source": [
    "df_productByQuantity = df_quantity.sort_values('Units Sold', ascending = False)"
   ]
  },
  {
   "cell_type": "code",
   "execution_count": 68,
   "id": "aac38da1-b340-4d72-84df-b2d686b6e8d5",
   "metadata": {},
   "outputs": [
    {
     "data": {
      "text/html": [
       "<div>\n",
       "<style scoped>\n",
       "    .dataframe tbody tr th:only-of-type {\n",
       "        vertical-align: middle;\n",
       "    }\n",
       "\n",
       "    .dataframe tbody tr th {\n",
       "        vertical-align: top;\n",
       "    }\n",
       "\n",
       "    .dataframe thead th {\n",
       "        text-align: right;\n",
       "    }\n",
       "</style>\n",
       "<table border=\"1\" class=\"dataframe\">\n",
       "  <thead>\n",
       "    <tr style=\"text-align: right;\">\n",
       "      <th></th>\n",
       "      <th>Units Sold</th>\n",
       "    </tr>\n",
       "    <tr>\n",
       "      <th>Product</th>\n",
       "      <th></th>\n",
       "    </tr>\n",
       "  </thead>\n",
       "  <tbody>\n",
       "    <tr>\n",
       "      <th>Green Tea</th>\n",
       "      <td>569303</td>\n",
       "    </tr>\n",
       "    <tr>\n",
       "      <th>Herbal Tea</th>\n",
       "      <td>565519</td>\n",
       "    </tr>\n",
       "    <tr>\n",
       "      <th>Wine</th>\n",
       "      <td>561817</td>\n",
       "    </tr>\n",
       "    <tr>\n",
       "      <th>Coffee</th>\n",
       "      <td>550962</td>\n",
       "    </tr>\n",
       "    <tr>\n",
       "      <th>Cola</th>\n",
       "      <td>548239</td>\n",
       "    </tr>\n",
       "    <tr>\n",
       "      <th>Lemonade</th>\n",
       "      <td>547903</td>\n",
       "    </tr>\n",
       "    <tr>\n",
       "      <th>Beer</th>\n",
       "      <td>543806</td>\n",
       "    </tr>\n",
       "    <tr>\n",
       "      <th>Energy Drink</th>\n",
       "      <td>538676</td>\n",
       "    </tr>\n",
       "    <tr>\n",
       "      <th>Vodka</th>\n",
       "      <td>537217</td>\n",
       "    </tr>\n",
       "    <tr>\n",
       "      <th>Black Tea</th>\n",
       "      <td>508182</td>\n",
       "    </tr>\n",
       "  </tbody>\n",
       "</table>\n",
       "</div>"
      ],
      "text/plain": [
       "              Units Sold\n",
       "Product                 \n",
       "Green Tea         569303\n",
       "Herbal Tea        565519\n",
       "Wine              561817\n",
       "Coffee            550962\n",
       "Cola              548239\n",
       "Lemonade          547903\n",
       "Beer              543806\n",
       "Energy Drink      538676\n",
       "Vodka             537217\n",
       "Black Tea         508182"
      ]
     },
     "execution_count": 68,
     "metadata": {},
     "output_type": "execute_result"
    }
   ],
   "source": [
    "df_productByQuantity"
   ]
  },
  {
   "cell_type": "markdown",
   "id": "31c0dc68-117f-48fb-a319-ffee414ee890",
   "metadata": {},
   "source": [
    "<H4> The data frame above showcases the units sold of products, the high units sold indicates an increased market demand for the products or the success of existing marketing strategy and the lower units sold indicates a decrease market in demand for the products which can be caused by an increased in competition or other factors"
   ]
  },
  {
   "cell_type": "markdown",
   "id": "bc62fd22-d701-416c-bb0a-850900eb84ed",
   "metadata": {},
   "source": [
    "<H4> "
   ]
  },
  {
   "cell_type": "markdown",
   "id": "5fe03361-523e-4bd1-8032-66a799278757",
   "metadata": {},
   "source": [
    "<H3> The most Prefered products"
   ]
  },
  {
   "cell_type": "code",
   "execution_count": 73,
   "id": "c1f34102-f572-4e17-8f3f-15f462f0f424",
   "metadata": {},
   "outputs": [
    {
     "name": "stderr",
     "output_type": "stream",
     "text": [
      "C:\\Users\\FarranceMM\\AppData\\Local\\Temp\\ipykernel_52124\\1470376672.py:9: UserWarning: FixedFormatter should only be used together with FixedLocator\n",
      "  bars.set_yticklabels(['{:.0f}'.format(y) for y in bars.get_yticks()])\n"
     ]
    },
    {
     "data": {
      "image/png": "[encoded data removed]",
      "text/plain": [
       "<Figure size 1200x1000 with 1 Axes>"
      ]
     },
     "metadata": {},
     "output_type": "display_data"
    }
   ],
   "source": [
    "\"\"\" We are going to plot the graph using Countplot from the seaborn package which produce the results by counting how many times does a product appears\n",
    "based on the customers preference \"\"\"\n",
    "plt.figure(figsize = (12, 10))\n",
    "total = len(df)\n",
    "bars = sns.countplot(data = df, x = 'Product', order = df['Product'].value_counts().index)\n",
    "for p in bars.patches:\n",
    "    bars.annotate('{:.0f}'.format(p.get_height()), (p.get_x() + 0.2, p.get_height() + 20))\n",
    "bars.set(ylim = (0, 1100))\n",
    "bars.set_yticklabels(['{:.0f}'.format(y) for y in bars.get_yticks()])\n",
    "bars.set_xticklabels(bars.get_xticklabels(), rotation = 90, ha = 'center')\n",
    "plt.ylabel('Purchased products by quantity')\n",
    "plt.xlabel('Products')\n",
    "plt.show()"
   ]
  },
  {
   "cell_type": "markdown",
   "id": "93f4a02f-8d6c-4e68-aba7-860c040a8641",
   "metadata": {},
   "source": [
    "<H4> The graph above showcases the most prefered products by customers, where Herbal Tea is the product with 1043 number of customers which is the highest and the Black Tea with 935 number of customers which is the lowest.\n",
    "\n",
    "<H4> When i draw my conclusion based on the structure of the graph, most consumers are benefit seeking consumers they buy because of the effects of the product, these are transformation seekers hoping to reduce weight or gain other benefits."
   ]
  },
  {
   "cell_type": "code",
   "execution_count": null,
   "id": "d533b55f-0a35-400f-9e95-c95e9b312e57",
   "metadata": {},
   "outputs": [],
   "source": []
  }
 ],
 "metadata": {
  "kernelspec": {
   "display_name": "Python 3 (ipykernel)",
   "language": "python",
   "name": "python3"
  },
  "language_info": {
   "codemirror_mode": {
    "name": "ipython",
    "version": 3
   },
   "file_extension": ".py",
   "mimetype": "text/x-python",
   "name": "python",
   "nbconvert_exporter": "python",
   "pygments_lexer": "ipython3",
   "version": "3.11.5"
  }
 },
 "nbformat": 4,
 "nbformat_minor": 5
}
